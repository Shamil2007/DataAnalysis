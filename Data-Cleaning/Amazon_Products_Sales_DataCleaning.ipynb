{
  "nbformat": 4,
  "nbformat_minor": 0,
  "metadata": {
    "colab": {
      "provenance": [],
      "authorship_tag": "ABX9TyOtNYp56j3vVtfXF74gQOke",
      "include_colab_link": true
    },
    "kernelspec": {
      "name": "python3",
      "display_name": "Python 3"
    },
    "language_info": {
      "name": "python"
    }
  },
  "cells": [
    {
      "cell_type": "markdown",
      "metadata": {
        "id": "view-in-github",
        "colab_type": "text"
      },
      "source": [
        "<a href=\"https://colab.research.google.com/github/Shamil2007/DataAnalysis/blob/main/Data-Cleaning/Amazon_Products_Sales_DataCleaning.ipynb\" target=\"_parent\"><img src=\"https://colab.research.google.com/assets/colab-badge.svg\" alt=\"Open In Colab\"/></a>"
      ]
    },
    {
      "cell_type": "code",
      "execution_count": 1,
      "metadata": {
        "id": "oU13yNowczVj"
      },
      "outputs": [],
      "source": [
        "!mkdir -p ~/.kaggle\n",
        "!mv kaggle.json ~/.kaggle/\n",
        "!chmod 600 ~/.kaggle/kaggle.json"
      ]
    },
    {
      "cell_type": "code",
      "source": [
        "!kaggle datasets download ikramshah512/amazon-products-sales-dataset-42k-items-2025"
      ],
      "metadata": {
        "colab": {
          "base_uri": "https://localhost:8080/"
        },
        "id": "vq_BqfAOdL1t",
        "outputId": "28187bd2-bb17-40c6-8b14-5f7335d67311"
      },
      "execution_count": 2,
      "outputs": [
        {
          "output_type": "stream",
          "name": "stdout",
          "text": [
            "Dataset URL: https://www.kaggle.com/datasets/ikramshah512/amazon-products-sales-dataset-42k-items-2025\n",
            "License(s): Attribution-NonCommercial 4.0 International (CC BY-NC 4.0)\n",
            "Downloading amazon-products-sales-dataset-42k-items-2025.zip to /content\n",
            "  0% 0.00/7.71M [00:00<?, ?B/s]\n",
            "100% 7.71M/7.71M [00:00<00:00, 592MB/s]\n"
          ]
        }
      ]
    },
    {
      "cell_type": "code",
      "source": [
        "!unzip /content/amazon-products-sales-dataset-42k-items-2025.zip"
      ],
      "metadata": {
        "colab": {
          "base_uri": "https://localhost:8080/"
        },
        "id": "3hBTDNFxdmjS",
        "outputId": "35ffb718-2470-4ae2-bfd5-dd6855e0868e"
      },
      "execution_count": 3,
      "outputs": [
        {
          "output_type": "stream",
          "name": "stdout",
          "text": [
            "Archive:  /content/amazon-products-sales-dataset-42k-items-2025.zip\n",
            "  inflating: amazon_products_sales_data_cleaned.csv  \n",
            "  inflating: amazon_products_sales_data_uncleaned.csv  \n"
          ]
        }
      ]
    },
    {
      "cell_type": "code",
      "source": [
        "import pandas as pd\n",
        "import numpy as np\n",
        "import matplotlib.pyplot as plt"
      ],
      "metadata": {
        "id": "EgAl8vg2dOim"
      },
      "execution_count": 4,
      "outputs": []
    },
    {
      "cell_type": "code",
      "source": [
        "df_main = pd.read_csv(\"/content/amazon_products_sales_data_uncleaned.csv\")\n",
        "df_main"
      ],
      "metadata": {
        "colab": {
          "base_uri": "https://localhost:8080/",
          "height": 1000
        },
        "id": "NDzXwGeXdRiO",
        "outputId": "04239540-4378-486e-d5be-556e84295ff9"
      },
      "execution_count": 5,
      "outputs": [
        {
          "output_type": "execute_result",
          "data": {
            "text/plain": [
              "                                                   title              rating  \\\n",
              "0      BOYA BOYALINK 2 Wireless Lavalier Microphone f...  4.6 out of 5 stars   \n",
              "1      LISEN USB C to Lightning Cable, 240W 4 in 1 Ch...  4.3 out of 5 stars   \n",
              "2      DJI Mic 2 (2 TX + 1 RX + Charging Case), Wirel...  4.6 out of 5 stars   \n",
              "3      Apple AirPods Pro 2 Wireless Earbuds, Active N...  4.6 out of 5 stars   \n",
              "4      Apple AirTag 4 Pack. Keep Track of and find Yo...  4.8 out of 5 stars   \n",
              "...                                                  ...                 ...   \n",
              "42670  Elgato 4K Pro, Internal Capture Card: 8K60 Pas...  5.0 out of 5 stars   \n",
              "42671  Arlo Essential Spotlight Camera, Wireless Secu...  4.2 out of 5 stars   \n",
              "42672  GIGABYTE - AORUS FO32U2-32\" QD OLED Gaming Mon...  4.3 out of 5 stars   \n",
              "42673  Monoprice XLR Male to 1/4-Inch TRS Male Cable ...  4.7 out of 5 stars   \n",
              "42674  Lorex Fusion 1080p HD Security Camera System w...  4.4 out of 5 stars   \n",
              "\n",
              "      number_of_reviews       bought_in_last_month current/discounted_price  \\\n",
              "0                   375  300+ bought in past month                    89.68   \n",
              "1                 2,457   6K+ bought in past month                     9.99   \n",
              "2                 3,044   2K+ bought in past month                   314.00   \n",
              "3                35,882  10K+ bought in past month                      NaN   \n",
              "4                28,988  10K+ bought in past month                      NaN   \n",
              "...                 ...                        ...                      ...   \n",
              "42670                 1  100+ bought in past month                   195.99   \n",
              "42671                20  200+ bought in past month                    89.99   \n",
              "42672                57   50+ bought in past month                   899.99   \n",
              "42673             7,102  500+ bought in past month                    10.39   \n",
              "42674                75   50+ bought in past month                   419.99   \n",
              "\n",
              "                                     price_on_variant listed_price  \\\n",
              "0                         basic variant price: 2.4GHz      $159.00   \n",
              "1                            basic variant price: nan       $15.99   \n",
              "2                            basic variant price: nan      $349.00   \n",
              "3                        basic variant price: $162.24  No Discount   \n",
              "4                         basic variant price: $72.74  No Discount   \n",
              "...                                               ...          ...   \n",
              "42670                        basic variant price: nan  No Discount   \n",
              "42671  basic variant price: $25.00 off coupon applied  No Discount   \n",
              "42672    basic variant price: Lowest price in 30 days    $1,099.99   \n",
              "42673                        basic variant price: nan       $15.98   \n",
              "42674                        basic variant price: nan      $499.99   \n",
              "\n",
              "      is_best_seller is_sponsored               is_couponed  \\\n",
              "0           No Badge    Sponsored     Save 15%  with coupon   \n",
              "1           No Badge    Sponsored                 No Coupon   \n",
              "2           No Badge    Sponsored                 No Coupon   \n",
              "3        Best Seller      Organic                 No Coupon   \n",
              "4           No Badge      Organic                 No Coupon   \n",
              "...              ...          ...                       ...   \n",
              "42670       No Badge      Organic                 No Coupon   \n",
              "42671       No Badge      Organic  Save $25.00  with coupon   \n",
              "42672       Save 18%      Organic                 No Coupon   \n",
              "42673       No Badge      Organic                 No Coupon   \n",
              "42674       No Badge      Organic                 No Coupon   \n",
              "\n",
              "      buy_box_availability                                   delivery_details  \\\n",
              "0              Add to cart                                Delivery Mon, Sep 1   \n",
              "1              Add to cart                               Delivery Fri, Aug 29   \n",
              "2              Add to cart                                Delivery Mon, Sep 1   \n",
              "3                      NaN                                                NaN   \n",
              "4                      NaN                                                NaN   \n",
              "...                    ...                                                ...   \n",
              "42670                  NaN  FREE delivery Thu, Sep 4Or fastest delivery Tu...   \n",
              "42671          Add to cart  FREE delivery Thu, Sep 4Or fastest delivery Mo...   \n",
              "42672          Add to cart  FREE delivery Thu, Sep 4Or fastest delivery We...   \n",
              "42673          Add to cart  FREE delivery Thu, Sep 4 on $35 of items shipp...   \n",
              "42674          Add to cart  FREE delivery Thu, Sep 4Or fastest delivery We...   \n",
              "\n",
              "      sustainability_badges  \\\n",
              "0             Carbon impact   \n",
              "1                       NaN   \n",
              "2                       NaN   \n",
              "3                       NaN   \n",
              "4                       NaN   \n",
              "...                     ...   \n",
              "42670                   NaN   \n",
              "42671                   NaN   \n",
              "42672                   NaN   \n",
              "42673                   NaN   \n",
              "42674                   NaN   \n",
              "\n",
              "                                               image_url  \\\n",
              "0      https://m.media-amazon.com/images/I/71pAqiVEs3...   \n",
              "1      https://m.media-amazon.com/images/I/61nbF6aVIP...   \n",
              "2      https://m.media-amazon.com/images/I/61h78MEXoj...   \n",
              "3      https://m.media-amazon.com/images/I/61SUj2aKoE...   \n",
              "4      https://m.media-amazon.com/images/I/61bMNCeAUA...   \n",
              "...                                                  ...   \n",
              "42670  https://m.media-amazon.com/images/I/51KCB+egEs...   \n",
              "42671  https://m.media-amazon.com/images/I/51jV+o1LZE...   \n",
              "42672  https://m.media-amazon.com/images/I/71ySPkNLkG...   \n",
              "42673  https://m.media-amazon.com/images/I/411c0JFJ79...   \n",
              "42674  https://m.media-amazon.com/images/I/71wTn+zoSr...   \n",
              "\n",
              "                                             product_url         collected_at  \n",
              "0      /sspa/click?ie=UTF8&spc=MTo4NzEzNDY2NTQ5NDYxND...  2025-08-21 11:14:29  \n",
              "1      /sspa/click?ie=UTF8&spc=MTo4NzEzNDY2NTQ5NDYxND...  2025-08-21 11:14:29  \n",
              "2      /sspa/click?ie=UTF8&spc=MTo4NzEzNDY2NTQ5NDYxND...  2025-08-21 11:14:29  \n",
              "3      /Apple-Cancellation-Transparency-Personalized-...  2025-08-21 11:14:29  \n",
              "4      /Apple-MX542LL-A-AirTag-Pack/dp/B0D54JZTHY/ref...  2025-08-21 11:14:29  \n",
              "...                                                  ...                  ...  \n",
              "42670  /Elgato-4K-Pro-Internal-Capture/dp/B0DLR3WQWR/...  2025-08-30 19:56:33  \n",
              "42671  /Arlo-Essential-Spotlight-Camera-Surveillance/...  2025-08-30 19:56:33  \n",
              "42672  /GIGABYTE-FO32U2-32-3840x2160-240Hz-FreeSync-A...  2025-08-30 19:56:33  \n",
              "42673  /Monoprice-XLR-Male-4-Inch-Cable/dp/B001UJEKZ6...  2025-08-30 19:56:33  \n",
              "42674  /Lorex-8-Channel-Security-Outdoor-Cameras/dp/B...  2025-08-30 19:56:33  \n",
              "\n",
              "[42675 rows x 16 columns]"
            ],
            "text/html": [
              "\n",
              "  <div id=\"df-bef9bc1e-8021-442c-9bd2-da633860d63e\" class=\"colab-df-container\">\n",
              "    <div>\n",
              "<style scoped>\n",
              "    .dataframe tbody tr th:only-of-type {\n",
              "        vertical-align: middle;\n",
              "    }\n",
              "\n",
              "    .dataframe tbody tr th {\n",
              "        vertical-align: top;\n",
              "    }\n",
              "\n",
              "    .dataframe thead th {\n",
              "        text-align: right;\n",
              "    }\n",
              "</style>\n",
              "<table border=\"1\" class=\"dataframe\">\n",
              "  <thead>\n",
              "    <tr style=\"text-align: right;\">\n",
              "      <th></th>\n",
              "      <th>title</th>\n",
              "      <th>rating</th>\n",
              "      <th>number_of_reviews</th>\n",
              "      <th>bought_in_last_month</th>\n",
              "      <th>current/discounted_price</th>\n",
              "      <th>price_on_variant</th>\n",
              "      <th>listed_price</th>\n",
              "      <th>is_best_seller</th>\n",
              "      <th>is_sponsored</th>\n",
              "      <th>is_couponed</th>\n",
              "      <th>buy_box_availability</th>\n",
              "      <th>delivery_details</th>\n",
              "      <th>sustainability_badges</th>\n",
              "      <th>image_url</th>\n",
              "      <th>product_url</th>\n",
              "      <th>collected_at</th>\n",
              "    </tr>\n",
              "  </thead>\n",
              "  <tbody>\n",
              "    <tr>\n",
              "      <th>0</th>\n",
              "      <td>BOYA BOYALINK 2 Wireless Lavalier Microphone f...</td>\n",
              "      <td>4.6 out of 5 stars</td>\n",
              "      <td>375</td>\n",
              "      <td>300+ bought in past month</td>\n",
              "      <td>89.68</td>\n",
              "      <td>basic variant price: 2.4GHz</td>\n",
              "      <td>$159.00</td>\n",
              "      <td>No Badge</td>\n",
              "      <td>Sponsored</td>\n",
              "      <td>Save 15%  with coupon</td>\n",
              "      <td>Add to cart</td>\n",
              "      <td>Delivery Mon, Sep 1</td>\n",
              "      <td>Carbon impact</td>\n",
              "      <td>https://m.media-amazon.com/images/I/71pAqiVEs3...</td>\n",
              "      <td>/sspa/click?ie=UTF8&amp;spc=MTo4NzEzNDY2NTQ5NDYxND...</td>\n",
              "      <td>2025-08-21 11:14:29</td>\n",
              "    </tr>\n",
              "    <tr>\n",
              "      <th>1</th>\n",
              "      <td>LISEN USB C to Lightning Cable, 240W 4 in 1 Ch...</td>\n",
              "      <td>4.3 out of 5 stars</td>\n",
              "      <td>2,457</td>\n",
              "      <td>6K+ bought in past month</td>\n",
              "      <td>9.99</td>\n",
              "      <td>basic variant price: nan</td>\n",
              "      <td>$15.99</td>\n",
              "      <td>No Badge</td>\n",
              "      <td>Sponsored</td>\n",
              "      <td>No Coupon</td>\n",
              "      <td>Add to cart</td>\n",
              "      <td>Delivery Fri, Aug 29</td>\n",
              "      <td>NaN</td>\n",
              "      <td>https://m.media-amazon.com/images/I/61nbF6aVIP...</td>\n",
              "      <td>/sspa/click?ie=UTF8&amp;spc=MTo4NzEzNDY2NTQ5NDYxND...</td>\n",
              "      <td>2025-08-21 11:14:29</td>\n",
              "    </tr>\n",
              "    <tr>\n",
              "      <th>2</th>\n",
              "      <td>DJI Mic 2 (2 TX + 1 RX + Charging Case), Wirel...</td>\n",
              "      <td>4.6 out of 5 stars</td>\n",
              "      <td>3,044</td>\n",
              "      <td>2K+ bought in past month</td>\n",
              "      <td>314.00</td>\n",
              "      <td>basic variant price: nan</td>\n",
              "      <td>$349.00</td>\n",
              "      <td>No Badge</td>\n",
              "      <td>Sponsored</td>\n",
              "      <td>No Coupon</td>\n",
              "      <td>Add to cart</td>\n",
              "      <td>Delivery Mon, Sep 1</td>\n",
              "      <td>NaN</td>\n",
              "      <td>https://m.media-amazon.com/images/I/61h78MEXoj...</td>\n",
              "      <td>/sspa/click?ie=UTF8&amp;spc=MTo4NzEzNDY2NTQ5NDYxND...</td>\n",
              "      <td>2025-08-21 11:14:29</td>\n",
              "    </tr>\n",
              "    <tr>\n",
              "      <th>3</th>\n",
              "      <td>Apple AirPods Pro 2 Wireless Earbuds, Active N...</td>\n",
              "      <td>4.6 out of 5 stars</td>\n",
              "      <td>35,882</td>\n",
              "      <td>10K+ bought in past month</td>\n",
              "      <td>NaN</td>\n",
              "      <td>basic variant price: $162.24</td>\n",
              "      <td>No Discount</td>\n",
              "      <td>Best Seller</td>\n",
              "      <td>Organic</td>\n",
              "      <td>No Coupon</td>\n",
              "      <td>NaN</td>\n",
              "      <td>NaN</td>\n",
              "      <td>NaN</td>\n",
              "      <td>https://m.media-amazon.com/images/I/61SUj2aKoE...</td>\n",
              "      <td>/Apple-Cancellation-Transparency-Personalized-...</td>\n",
              "      <td>2025-08-21 11:14:29</td>\n",
              "    </tr>\n",
              "    <tr>\n",
              "      <th>4</th>\n",
              "      <td>Apple AirTag 4 Pack. Keep Track of and find Yo...</td>\n",
              "      <td>4.8 out of 5 stars</td>\n",
              "      <td>28,988</td>\n",
              "      <td>10K+ bought in past month</td>\n",
              "      <td>NaN</td>\n",
              "      <td>basic variant price: $72.74</td>\n",
              "      <td>No Discount</td>\n",
              "      <td>No Badge</td>\n",
              "      <td>Organic</td>\n",
              "      <td>No Coupon</td>\n",
              "      <td>NaN</td>\n",
              "      <td>NaN</td>\n",
              "      <td>NaN</td>\n",
              "      <td>https://m.media-amazon.com/images/I/61bMNCeAUA...</td>\n",
              "      <td>/Apple-MX542LL-A-AirTag-Pack/dp/B0D54JZTHY/ref...</td>\n",
              "      <td>2025-08-21 11:14:29</td>\n",
              "    </tr>\n",
              "    <tr>\n",
              "      <th>...</th>\n",
              "      <td>...</td>\n",
              "      <td>...</td>\n",
              "      <td>...</td>\n",
              "      <td>...</td>\n",
              "      <td>...</td>\n",
              "      <td>...</td>\n",
              "      <td>...</td>\n",
              "      <td>...</td>\n",
              "      <td>...</td>\n",
              "      <td>...</td>\n",
              "      <td>...</td>\n",
              "      <td>...</td>\n",
              "      <td>...</td>\n",
              "      <td>...</td>\n",
              "      <td>...</td>\n",
              "      <td>...</td>\n",
              "    </tr>\n",
              "    <tr>\n",
              "      <th>42670</th>\n",
              "      <td>Elgato 4K Pro, Internal Capture Card: 8K60 Pas...</td>\n",
              "      <td>5.0 out of 5 stars</td>\n",
              "      <td>1</td>\n",
              "      <td>100+ bought in past month</td>\n",
              "      <td>195.99</td>\n",
              "      <td>basic variant price: nan</td>\n",
              "      <td>No Discount</td>\n",
              "      <td>No Badge</td>\n",
              "      <td>Organic</td>\n",
              "      <td>No Coupon</td>\n",
              "      <td>NaN</td>\n",
              "      <td>FREE delivery Thu, Sep 4Or fastest delivery Tu...</td>\n",
              "      <td>NaN</td>\n",
              "      <td>https://m.media-amazon.com/images/I/51KCB+egEs...</td>\n",
              "      <td>/Elgato-4K-Pro-Internal-Capture/dp/B0DLR3WQWR/...</td>\n",
              "      <td>2025-08-30 19:56:33</td>\n",
              "    </tr>\n",
              "    <tr>\n",
              "      <th>42671</th>\n",
              "      <td>Arlo Essential Spotlight Camera, Wireless Secu...</td>\n",
              "      <td>4.2 out of 5 stars</td>\n",
              "      <td>20</td>\n",
              "      <td>200+ bought in past month</td>\n",
              "      <td>89.99</td>\n",
              "      <td>basic variant price: $25.00 off coupon applied</td>\n",
              "      <td>No Discount</td>\n",
              "      <td>No Badge</td>\n",
              "      <td>Organic</td>\n",
              "      <td>Save $25.00  with coupon</td>\n",
              "      <td>Add to cart</td>\n",
              "      <td>FREE delivery Thu, Sep 4Or fastest delivery Mo...</td>\n",
              "      <td>NaN</td>\n",
              "      <td>https://m.media-amazon.com/images/I/51jV+o1LZE...</td>\n",
              "      <td>/Arlo-Essential-Spotlight-Camera-Surveillance/...</td>\n",
              "      <td>2025-08-30 19:56:33</td>\n",
              "    </tr>\n",
              "    <tr>\n",
              "      <th>42672</th>\n",
              "      <td>GIGABYTE - AORUS FO32U2-32\" QD OLED Gaming Mon...</td>\n",
              "      <td>4.3 out of 5 stars</td>\n",
              "      <td>57</td>\n",
              "      <td>50+ bought in past month</td>\n",
              "      <td>899.99</td>\n",
              "      <td>basic variant price: Lowest price in 30 days</td>\n",
              "      <td>$1,099.99</td>\n",
              "      <td>Save 18%</td>\n",
              "      <td>Organic</td>\n",
              "      <td>No Coupon</td>\n",
              "      <td>Add to cart</td>\n",
              "      <td>FREE delivery Thu, Sep 4Or fastest delivery We...</td>\n",
              "      <td>NaN</td>\n",
              "      <td>https://m.media-amazon.com/images/I/71ySPkNLkG...</td>\n",
              "      <td>/GIGABYTE-FO32U2-32-3840x2160-240Hz-FreeSync-A...</td>\n",
              "      <td>2025-08-30 19:56:33</td>\n",
              "    </tr>\n",
              "    <tr>\n",
              "      <th>42673</th>\n",
              "      <td>Monoprice XLR Male to 1/4-Inch TRS Male Cable ...</td>\n",
              "      <td>4.7 out of 5 stars</td>\n",
              "      <td>7,102</td>\n",
              "      <td>500+ bought in past month</td>\n",
              "      <td>10.39</td>\n",
              "      <td>basic variant price: nan</td>\n",
              "      <td>$15.98</td>\n",
              "      <td>No Badge</td>\n",
              "      <td>Organic</td>\n",
              "      <td>No Coupon</td>\n",
              "      <td>Add to cart</td>\n",
              "      <td>FREE delivery Thu, Sep 4 on $35 of items shipp...</td>\n",
              "      <td>NaN</td>\n",
              "      <td>https://m.media-amazon.com/images/I/411c0JFJ79...</td>\n",
              "      <td>/Monoprice-XLR-Male-4-Inch-Cable/dp/B001UJEKZ6...</td>\n",
              "      <td>2025-08-30 19:56:33</td>\n",
              "    </tr>\n",
              "    <tr>\n",
              "      <th>42674</th>\n",
              "      <td>Lorex Fusion 1080p HD Security Camera System w...</td>\n",
              "      <td>4.4 out of 5 stars</td>\n",
              "      <td>75</td>\n",
              "      <td>50+ bought in past month</td>\n",
              "      <td>419.99</td>\n",
              "      <td>basic variant price: nan</td>\n",
              "      <td>$499.99</td>\n",
              "      <td>No Badge</td>\n",
              "      <td>Organic</td>\n",
              "      <td>No Coupon</td>\n",
              "      <td>Add to cart</td>\n",
              "      <td>FREE delivery Thu, Sep 4Or fastest delivery We...</td>\n",
              "      <td>NaN</td>\n",
              "      <td>https://m.media-amazon.com/images/I/71wTn+zoSr...</td>\n",
              "      <td>/Lorex-8-Channel-Security-Outdoor-Cameras/dp/B...</td>\n",
              "      <td>2025-08-30 19:56:33</td>\n",
              "    </tr>\n",
              "  </tbody>\n",
              "</table>\n",
              "<p>42675 rows × 16 columns</p>\n",
              "</div>\n",
              "    <div class=\"colab-df-buttons\">\n",
              "\n",
              "  <div class=\"colab-df-container\">\n",
              "    <button class=\"colab-df-convert\" onclick=\"convertToInteractive('df-bef9bc1e-8021-442c-9bd2-da633860d63e')\"\n",
              "            title=\"Convert this dataframe to an interactive table.\"\n",
              "            style=\"display:none;\">\n",
              "\n",
              "  <svg xmlns=\"http://www.w3.org/2000/svg\" height=\"24px\" viewBox=\"0 -960 960 960\">\n",
              "    <path d=\"M120-120v-720h720v720H120Zm60-500h600v-160H180v160Zm220 220h160v-160H400v160Zm0 220h160v-160H400v160ZM180-400h160v-160H180v160Zm440 0h160v-160H620v160ZM180-180h160v-160H180v160Zm440 0h160v-160H620v160Z\"/>\n",
              "  </svg>\n",
              "    </button>\n",
              "\n",
              "  <style>\n",
              "    .colab-df-container {\n",
              "      display:flex;\n",
              "      gap: 12px;\n",
              "    }\n",
              "\n",
              "    .colab-df-convert {\n",
              "      background-color: #E8F0FE;\n",
              "      border: none;\n",
              "      border-radius: 50%;\n",
              "      cursor: pointer;\n",
              "      display: none;\n",
              "      fill: #1967D2;\n",
              "      height: 32px;\n",
              "      padding: 0 0 0 0;\n",
              "      width: 32px;\n",
              "    }\n",
              "\n",
              "    .colab-df-convert:hover {\n",
              "      background-color: #E2EBFA;\n",
              "      box-shadow: 0px 1px 2px rgba(60, 64, 67, 0.3), 0px 1px 3px 1px rgba(60, 64, 67, 0.15);\n",
              "      fill: #174EA6;\n",
              "    }\n",
              "\n",
              "    .colab-df-buttons div {\n",
              "      margin-bottom: 4px;\n",
              "    }\n",
              "\n",
              "    [theme=dark] .colab-df-convert {\n",
              "      background-color: #3B4455;\n",
              "      fill: #D2E3FC;\n",
              "    }\n",
              "\n",
              "    [theme=dark] .colab-df-convert:hover {\n",
              "      background-color: #434B5C;\n",
              "      box-shadow: 0px 1px 3px 1px rgba(0, 0, 0, 0.15);\n",
              "      filter: drop-shadow(0px 1px 2px rgba(0, 0, 0, 0.3));\n",
              "      fill: #FFFFFF;\n",
              "    }\n",
              "  </style>\n",
              "\n",
              "    <script>\n",
              "      const buttonEl =\n",
              "        document.querySelector('#df-bef9bc1e-8021-442c-9bd2-da633860d63e button.colab-df-convert');\n",
              "      buttonEl.style.display =\n",
              "        google.colab.kernel.accessAllowed ? 'block' : 'none';\n",
              "\n",
              "      async function convertToInteractive(key) {\n",
              "        const element = document.querySelector('#df-bef9bc1e-8021-442c-9bd2-da633860d63e');\n",
              "        const dataTable =\n",
              "          await google.colab.kernel.invokeFunction('convertToInteractive',\n",
              "                                                    [key], {});\n",
              "        if (!dataTable) return;\n",
              "\n",
              "        const docLinkHtml = 'Like what you see? Visit the ' +\n",
              "          '<a target=\"_blank\" href=https://colab.research.google.com/notebooks/data_table.ipynb>data table notebook</a>'\n",
              "          + ' to learn more about interactive tables.';\n",
              "        element.innerHTML = '';\n",
              "        dataTable['output_type'] = 'display_data';\n",
              "        await google.colab.output.renderOutput(dataTable, element);\n",
              "        const docLink = document.createElement('div');\n",
              "        docLink.innerHTML = docLinkHtml;\n",
              "        element.appendChild(docLink);\n",
              "      }\n",
              "    </script>\n",
              "  </div>\n",
              "\n",
              "\n",
              "    <div id=\"df-609e79fa-1733-4f54-9f94-a7b5b8059adb\">\n",
              "      <button class=\"colab-df-quickchart\" onclick=\"quickchart('df-609e79fa-1733-4f54-9f94-a7b5b8059adb')\"\n",
              "                title=\"Suggest charts\"\n",
              "                style=\"display:none;\">\n",
              "\n",
              "<svg xmlns=\"http://www.w3.org/2000/svg\" height=\"24px\"viewBox=\"0 0 24 24\"\n",
              "     width=\"24px\">\n",
              "    <g>\n",
              "        <path d=\"M19 3H5c-1.1 0-2 .9-2 2v14c0 1.1.9 2 2 2h14c1.1 0 2-.9 2-2V5c0-1.1-.9-2-2-2zM9 17H7v-7h2v7zm4 0h-2V7h2v10zm4 0h-2v-4h2v4z\"/>\n",
              "    </g>\n",
              "</svg>\n",
              "      </button>\n",
              "\n",
              "<style>\n",
              "  .colab-df-quickchart {\n",
              "      --bg-color: #E8F0FE;\n",
              "      --fill-color: #1967D2;\n",
              "      --hover-bg-color: #E2EBFA;\n",
              "      --hover-fill-color: #174EA6;\n",
              "      --disabled-fill-color: #AAA;\n",
              "      --disabled-bg-color: #DDD;\n",
              "  }\n",
              "\n",
              "  [theme=dark] .colab-df-quickchart {\n",
              "      --bg-color: #3B4455;\n",
              "      --fill-color: #D2E3FC;\n",
              "      --hover-bg-color: #434B5C;\n",
              "      --hover-fill-color: #FFFFFF;\n",
              "      --disabled-bg-color: #3B4455;\n",
              "      --disabled-fill-color: #666;\n",
              "  }\n",
              "\n",
              "  .colab-df-quickchart {\n",
              "    background-color: var(--bg-color);\n",
              "    border: none;\n",
              "    border-radius: 50%;\n",
              "    cursor: pointer;\n",
              "    display: none;\n",
              "    fill: var(--fill-color);\n",
              "    height: 32px;\n",
              "    padding: 0;\n",
              "    width: 32px;\n",
              "  }\n",
              "\n",
              "  .colab-df-quickchart:hover {\n",
              "    background-color: var(--hover-bg-color);\n",
              "    box-shadow: 0 1px 2px rgba(60, 64, 67, 0.3), 0 1px 3px 1px rgba(60, 64, 67, 0.15);\n",
              "    fill: var(--button-hover-fill-color);\n",
              "  }\n",
              "\n",
              "  .colab-df-quickchart-complete:disabled,\n",
              "  .colab-df-quickchart-complete:disabled:hover {\n",
              "    background-color: var(--disabled-bg-color);\n",
              "    fill: var(--disabled-fill-color);\n",
              "    box-shadow: none;\n",
              "  }\n",
              "\n",
              "  .colab-df-spinner {\n",
              "    border: 2px solid var(--fill-color);\n",
              "    border-color: transparent;\n",
              "    border-bottom-color: var(--fill-color);\n",
              "    animation:\n",
              "      spin 1s steps(1) infinite;\n",
              "  }\n",
              "\n",
              "  @keyframes spin {\n",
              "    0% {\n",
              "      border-color: transparent;\n",
              "      border-bottom-color: var(--fill-color);\n",
              "      border-left-color: var(--fill-color);\n",
              "    }\n",
              "    20% {\n",
              "      border-color: transparent;\n",
              "      border-left-color: var(--fill-color);\n",
              "      border-top-color: var(--fill-color);\n",
              "    }\n",
              "    30% {\n",
              "      border-color: transparent;\n",
              "      border-left-color: var(--fill-color);\n",
              "      border-top-color: var(--fill-color);\n",
              "      border-right-color: var(--fill-color);\n",
              "    }\n",
              "    40% {\n",
              "      border-color: transparent;\n",
              "      border-right-color: var(--fill-color);\n",
              "      border-top-color: var(--fill-color);\n",
              "    }\n",
              "    60% {\n",
              "      border-color: transparent;\n",
              "      border-right-color: var(--fill-color);\n",
              "    }\n",
              "    80% {\n",
              "      border-color: transparent;\n",
              "      border-right-color: var(--fill-color);\n",
              "      border-bottom-color: var(--fill-color);\n",
              "    }\n",
              "    90% {\n",
              "      border-color: transparent;\n",
              "      border-bottom-color: var(--fill-color);\n",
              "    }\n",
              "  }\n",
              "</style>\n",
              "\n",
              "      <script>\n",
              "        async function quickchart(key) {\n",
              "          const quickchartButtonEl =\n",
              "            document.querySelector('#' + key + ' button');\n",
              "          quickchartButtonEl.disabled = true;  // To prevent multiple clicks.\n",
              "          quickchartButtonEl.classList.add('colab-df-spinner');\n",
              "          try {\n",
              "            const charts = await google.colab.kernel.invokeFunction(\n",
              "                'suggestCharts', [key], {});\n",
              "          } catch (error) {\n",
              "            console.error('Error during call to suggestCharts:', error);\n",
              "          }\n",
              "          quickchartButtonEl.classList.remove('colab-df-spinner');\n",
              "          quickchartButtonEl.classList.add('colab-df-quickchart-complete');\n",
              "        }\n",
              "        (() => {\n",
              "          let quickchartButtonEl =\n",
              "            document.querySelector('#df-609e79fa-1733-4f54-9f94-a7b5b8059adb button');\n",
              "          quickchartButtonEl.style.display =\n",
              "            google.colab.kernel.accessAllowed ? 'block' : 'none';\n",
              "        })();\n",
              "      </script>\n",
              "    </div>\n",
              "\n",
              "  <div id=\"id_fb90338c-95f8-4ae8-9a81-92d2d4856c09\">\n",
              "    <style>\n",
              "      .colab-df-generate {\n",
              "        background-color: #E8F0FE;\n",
              "        border: none;\n",
              "        border-radius: 50%;\n",
              "        cursor: pointer;\n",
              "        display: none;\n",
              "        fill: #1967D2;\n",
              "        height: 32px;\n",
              "        padding: 0 0 0 0;\n",
              "        width: 32px;\n",
              "      }\n",
              "\n",
              "      .colab-df-generate:hover {\n",
              "        background-color: #E2EBFA;\n",
              "        box-shadow: 0px 1px 2px rgba(60, 64, 67, 0.3), 0px 1px 3px 1px rgba(60, 64, 67, 0.15);\n",
              "        fill: #174EA6;\n",
              "      }\n",
              "\n",
              "      [theme=dark] .colab-df-generate {\n",
              "        background-color: #3B4455;\n",
              "        fill: #D2E3FC;\n",
              "      }\n",
              "\n",
              "      [theme=dark] .colab-df-generate:hover {\n",
              "        background-color: #434B5C;\n",
              "        box-shadow: 0px 1px 3px 1px rgba(0, 0, 0, 0.15);\n",
              "        filter: drop-shadow(0px 1px 2px rgba(0, 0, 0, 0.3));\n",
              "        fill: #FFFFFF;\n",
              "      }\n",
              "    </style>\n",
              "    <button class=\"colab-df-generate\" onclick=\"generateWithVariable('df_main')\"\n",
              "            title=\"Generate code using this dataframe.\"\n",
              "            style=\"display:none;\">\n",
              "\n",
              "  <svg xmlns=\"http://www.w3.org/2000/svg\" height=\"24px\"viewBox=\"0 0 24 24\"\n",
              "       width=\"24px\">\n",
              "    <path d=\"M7,19H8.4L18.45,9,17,7.55,7,17.6ZM5,21V16.75L18.45,3.32a2,2,0,0,1,2.83,0l1.4,1.43a1.91,1.91,0,0,1,.58,1.4,1.91,1.91,0,0,1-.58,1.4L9.25,21ZM18.45,9,17,7.55Zm-12,3A5.31,5.31,0,0,0,4.9,8.1,5.31,5.31,0,0,0,1,6.5,5.31,5.31,0,0,0,4.9,4.9,5.31,5.31,0,0,0,6.5,1,5.31,5.31,0,0,0,8.1,4.9,5.31,5.31,0,0,0,12,6.5,5.46,5.46,0,0,0,6.5,12Z\"/>\n",
              "  </svg>\n",
              "    </button>\n",
              "    <script>\n",
              "      (() => {\n",
              "      const buttonEl =\n",
              "        document.querySelector('#id_fb90338c-95f8-4ae8-9a81-92d2d4856c09 button.colab-df-generate');\n",
              "      buttonEl.style.display =\n",
              "        google.colab.kernel.accessAllowed ? 'block' : 'none';\n",
              "\n",
              "      buttonEl.onclick = () => {\n",
              "        google.colab.notebook.generateWithVariable('df_main');\n",
              "      }\n",
              "      })();\n",
              "    </script>\n",
              "  </div>\n",
              "\n",
              "    </div>\n",
              "  </div>\n"
            ],
            "application/vnd.google.colaboratory.intrinsic+json": {
              "type": "dataframe",
              "variable_name": "df_main",
              "summary": "{\n  \"name\": \"df_main\",\n  \"rows\": 42675,\n  \"fields\": [\n    {\n      \"column\": \"title\",\n      \"properties\": {\n        \"dtype\": \"category\",\n        \"num_unique_values\": 8808,\n        \"samples\": [\n          \"Targus USB-C Dual HDMI 4K Docking Station with 100W PD Pass-Thru - Expand Your HDMI, USB, and Ethernet Connections On-The-Go (DOCK423TT)\",\n          \"WAVLINK USB C and USB 3.0 to Dual 4K DisplayPort/HDMI Adapter, Displaylink Monitor Splitter Extended Display for Dual Monitor 4K@60Hz, HDMI/DP Splitter Compatible with Mac M1-M4,Window Laptop-Silver\",\n          \"BATTRY ALKLN DURA AA CD8\"\n        ],\n        \"semantic_type\": \"\",\n        \"description\": \"\"\n      }\n    },\n    {\n      \"column\": \"rating\",\n      \"properties\": {\n        \"dtype\": \"category\",\n        \"num_unique_values\": 31,\n        \"samples\": [\n          \"2.7 out of 5 stars\",\n          \"3.4 out of 5 stars\",\n          \"1.0 out of 5 stars\"\n        ],\n        \"semantic_type\": \"\",\n        \"description\": \"\"\n      }\n    },\n    {\n      \"column\": \"number_of_reviews\",\n      \"properties\": {\n        \"dtype\": \"category\",\n        \"num_unique_values\": 4413,\n        \"samples\": [\n          \"223\",\n          \"14,506\",\n          \"2,049\"\n        ],\n        \"semantic_type\": \"\",\n        \"description\": \"\"\n      }\n    },\n    {\n      \"column\": \"bought_in_last_month\",\n      \"properties\": {\n        \"dtype\": \"category\",\n        \"num_unique_values\": 59,\n        \"samples\": [\n          \"300+ bought in past month\",\n          \"100+ bought in past month\",\n          \"More Buying Choices\"\n        ],\n        \"semantic_type\": \"\",\n        \"description\": \"\"\n      }\n    },\n    {\n      \"column\": \"current/discounted_price\",\n      \"properties\": {\n        \"dtype\": \"category\",\n        \"num_unique_values\": 2576,\n        \"samples\": [\n          \"17.88\",\n          \"11.47\",\n          \"107.97\"\n        ],\n        \"semantic_type\": \"\",\n        \"description\": \"\"\n      }\n    },\n    {\n      \"column\": \"price_on_variant\",\n      \"properties\": {\n        \"dtype\": \"category\",\n        \"num_unique_values\": 3466,\n        \"samples\": [\n          \"basic variant price: $17.49\",\n          \"basic variant price: $13.94\",\n          \"basic variant price: $167.99\"\n        ],\n        \"semantic_type\": \"\",\n        \"description\": \"\"\n      }\n    },\n    {\n      \"column\": \"listed_price\",\n      \"properties\": {\n        \"dtype\": \"category\",\n        \"num_unique_values\": 911,\n        \"samples\": [\n          \"$275.99\",\n          \"$161.99\",\n          \"$6.38\"\n        ],\n        \"semantic_type\": \"\",\n        \"description\": \"\"\n      }\n    },\n    {\n      \"column\": \"is_best_seller\",\n      \"properties\": {\n        \"dtype\": \"category\",\n        \"num_unique_values\": 12,\n        \"samples\": [\n          \"Save 10%\",\n          \"Ends in\",\n          \"No Badge\"\n        ],\n        \"semantic_type\": \"\",\n        \"description\": \"\"\n      }\n    },\n    {\n      \"column\": \"is_sponsored\",\n      \"properties\": {\n        \"dtype\": \"category\",\n        \"num_unique_values\": 2,\n        \"samples\": [\n          \"Organic\",\n          \"Sponsored\"\n        ],\n        \"semantic_type\": \"\",\n        \"description\": \"\"\n      }\n    },\n    {\n      \"column\": \"is_couponed\",\n      \"properties\": {\n        \"dtype\": \"category\",\n        \"num_unique_values\": 42,\n        \"samples\": [\n          \"Save $50.00  with coupon\",\n          \"Save 6%  with coupon\"\n        ],\n        \"semantic_type\": \"\",\n        \"description\": \"\"\n      }\n    },\n    {\n      \"column\": \"buy_box_availability\",\n      \"properties\": {\n        \"dtype\": \"category\",\n        \"num_unique_values\": 1,\n        \"samples\": [\n          \"Add to cart\"\n        ],\n        \"semantic_type\": \"\",\n        \"description\": \"\"\n      }\n    },\n    {\n      \"column\": \"delivery_details\",\n      \"properties\": {\n        \"dtype\": \"category\",\n        \"num_unique_values\": 298,\n        \"samples\": [\n          \"$17.49 delivery\"\n        ],\n        \"semantic_type\": \"\",\n        \"description\": \"\"\n      }\n    },\n    {\n      \"column\": \"sustainability_badges\",\n      \"properties\": {\n        \"dtype\": \"category\",\n        \"num_unique_values\": 16,\n        \"samples\": [\n          \"Carbon impact\"\n        ],\n        \"semantic_type\": \"\",\n        \"description\": \"\"\n      }\n    },\n    {\n      \"column\": \"image_url\",\n      \"properties\": {\n        \"dtype\": \"category\",\n        \"num_unique_values\": 8038,\n        \"samples\": [\n          \"https://m.media-amazon.com/images/I/719dkqqyBjL._AC_UL320_.jpg\"\n        ],\n        \"semantic_type\": \"\",\n        \"description\": \"\"\n      }\n    },\n    {\n      \"column\": \"product_url\",\n      \"properties\": {\n        \"dtype\": \"string\",\n        \"num_unique_values\": 40606,\n        \"samples\": [\n          \"/Astro-A30-XBOX-White-Gaming-Console/dp/B09NNJYGB4/ref=sr_1_21800?dib=eyJ2IjoiMSJ9._J2ujxrQnUFwhM7dsrEXna3V9_b5y27QvdtOXNCJHTFcVfTHsgq2_kW2Hf-6GWz6Jsyytvn2dy9Swv2P8xa4b-CcfZ1560SrT0XNwKWS-2YPA7k1YhTmMXBbx8mFmIgCNfC6Un5kw1Fd5i7VZcDV1twwPhV3N2mQT3B3lfF2Jg1bmaOGzEU5dyrsIDfK8WXrIwpK57LP51c8vpAvWFJ4fAEA8PSgWBK_t1ttKD2m30-zXUXWEVPBHipNzVvY928LwZe4HWezEGIr-KHkqR7U2ZiaCooa3Q8S4X-6DkbD3ik.uVKeC1WfiPsPyGaPX0G4rj2REqVlbfiOfGyATOmImA0&dib_tag=se&qid=1756306945&refinements=p_n_g-101014971069111%3A119653281011&s=electronics&sr=1-21800\"\n        ],\n        \"semantic_type\": \"\",\n        \"description\": \"\"\n      }\n    },\n    {\n      \"column\": \"collected_at\",\n      \"properties\": {\n        \"dtype\": \"object\",\n        \"num_unique_values\": 1559,\n        \"samples\": [\n          \"2025-08-30 19:48:45\"\n        ],\n        \"semantic_type\": \"\",\n        \"description\": \"\"\n      }\n    }\n  ]\n}"
            }
          },
          "metadata": {},
          "execution_count": 5
        }
      ]
    },
    {
      "cell_type": "code",
      "source": [
        "df = df_main.copy()"
      ],
      "metadata": {
        "id": "9olyuo0koMQD"
      },
      "execution_count": 6,
      "outputs": []
    },
    {
      "cell_type": "code",
      "source": [
        "df.info()"
      ],
      "metadata": {
        "colab": {
          "base_uri": "https://localhost:8080/"
        },
        "id": "Qj9Kb4KidrFv",
        "outputId": "eabb612a-8057-437b-8cd8-f58ba5dc99dd"
      },
      "execution_count": 7,
      "outputs": [
        {
          "output_type": "stream",
          "name": "stdout",
          "text": [
            "<class 'pandas.core.frame.DataFrame'>\n",
            "RangeIndex: 42675 entries, 0 to 42674\n",
            "Data columns (total 16 columns):\n",
            " #   Column                    Non-Null Count  Dtype \n",
            "---  ------                    --------------  ----- \n",
            " 0   title                     42675 non-null  object\n",
            " 1   rating                    41651 non-null  object\n",
            " 2   number_of_reviews         41651 non-null  object\n",
            " 3   bought_in_last_month      39458 non-null  object\n",
            " 4   current/discounted_price  30926 non-null  object\n",
            " 5   price_on_variant          42675 non-null  object\n",
            " 6   listed_price              42675 non-null  object\n",
            " 7   is_best_seller            42675 non-null  object\n",
            " 8   is_sponsored              42675 non-null  object\n",
            " 9   is_couponed               42675 non-null  object\n",
            " 10  buy_box_availability      28022 non-null  object\n",
            " 11  delivery_details          30955 non-null  object\n",
            " 12  sustainability_badges     3408 non-null   object\n",
            " 13  image_url                 42675 non-null  object\n",
            " 14  product_url               40606 non-null  object\n",
            " 15  collected_at              42675 non-null  object\n",
            "dtypes: object(16)\n",
            "memory usage: 5.2+ MB\n"
          ]
        }
      ]
    },
    {
      "cell_type": "code",
      "source": [
        "print(f\"The DataFrame has {df.shape[0]} rows and {df.shape[1]} columns.\")"
      ],
      "metadata": {
        "colab": {
          "base_uri": "https://localhost:8080/"
        },
        "id": "po-d1A4FYY2j",
        "outputId": "669771e5-9d67-4cef-a035-12c4baf88cf8"
      },
      "execution_count": 8,
      "outputs": [
        {
          "output_type": "stream",
          "name": "stdout",
          "text": [
            "The DataFrame has 42675 rows and 16 columns.\n"
          ]
        }
      ]
    },
    {
      "cell_type": "code",
      "source": [
        "num_duplicates = df.duplicated().sum()\n",
        "print(f\"Number of duplicate rows in data: {num_duplicates}\")"
      ],
      "metadata": {
        "colab": {
          "base_uri": "https://localhost:8080/"
        },
        "id": "q4Rl7cFcYmNM",
        "outputId": "1996f49c-a660-4016-9ca8-41aa8d0ede17"
      },
      "execution_count": 9,
      "outputs": [
        {
          "output_type": "stream",
          "name": "stdout",
          "text": [
            "Number of duplicate rows in data: 0\n"
          ]
        }
      ]
    },
    {
      "cell_type": "code",
      "source": [
        "df.isna().sum()"
      ],
      "metadata": {
        "colab": {
          "base_uri": "https://localhost:8080/",
          "height": 585
        },
        "id": "P064NrTreA6H",
        "outputId": "cf5668d9-c06d-4f16-b4f1-da3992d12d80"
      },
      "execution_count": 10,
      "outputs": [
        {
          "output_type": "execute_result",
          "data": {
            "text/plain": [
              "title                           0\n",
              "rating                       1024\n",
              "number_of_reviews            1024\n",
              "bought_in_last_month         3217\n",
              "current/discounted_price    11749\n",
              "price_on_variant                0\n",
              "listed_price                    0\n",
              "is_best_seller                  0\n",
              "is_sponsored                    0\n",
              "is_couponed                     0\n",
              "buy_box_availability        14653\n",
              "delivery_details            11720\n",
              "sustainability_badges       39267\n",
              "image_url                       0\n",
              "product_url                  2069\n",
              "collected_at                    0\n",
              "dtype: int64"
            ],
            "text/html": [
              "<div>\n",
              "<style scoped>\n",
              "    .dataframe tbody tr th:only-of-type {\n",
              "        vertical-align: middle;\n",
              "    }\n",
              "\n",
              "    .dataframe tbody tr th {\n",
              "        vertical-align: top;\n",
              "    }\n",
              "\n",
              "    .dataframe thead th {\n",
              "        text-align: right;\n",
              "    }\n",
              "</style>\n",
              "<table border=\"1\" class=\"dataframe\">\n",
              "  <thead>\n",
              "    <tr style=\"text-align: right;\">\n",
              "      <th></th>\n",
              "      <th>0</th>\n",
              "    </tr>\n",
              "  </thead>\n",
              "  <tbody>\n",
              "    <tr>\n",
              "      <th>title</th>\n",
              "      <td>0</td>\n",
              "    </tr>\n",
              "    <tr>\n",
              "      <th>rating</th>\n",
              "      <td>1024</td>\n",
              "    </tr>\n",
              "    <tr>\n",
              "      <th>number_of_reviews</th>\n",
              "      <td>1024</td>\n",
              "    </tr>\n",
              "    <tr>\n",
              "      <th>bought_in_last_month</th>\n",
              "      <td>3217</td>\n",
              "    </tr>\n",
              "    <tr>\n",
              "      <th>current/discounted_price</th>\n",
              "      <td>11749</td>\n",
              "    </tr>\n",
              "    <tr>\n",
              "      <th>price_on_variant</th>\n",
              "      <td>0</td>\n",
              "    </tr>\n",
              "    <tr>\n",
              "      <th>listed_price</th>\n",
              "      <td>0</td>\n",
              "    </tr>\n",
              "    <tr>\n",
              "      <th>is_best_seller</th>\n",
              "      <td>0</td>\n",
              "    </tr>\n",
              "    <tr>\n",
              "      <th>is_sponsored</th>\n",
              "      <td>0</td>\n",
              "    </tr>\n",
              "    <tr>\n",
              "      <th>is_couponed</th>\n",
              "      <td>0</td>\n",
              "    </tr>\n",
              "    <tr>\n",
              "      <th>buy_box_availability</th>\n",
              "      <td>14653</td>\n",
              "    </tr>\n",
              "    <tr>\n",
              "      <th>delivery_details</th>\n",
              "      <td>11720</td>\n",
              "    </tr>\n",
              "    <tr>\n",
              "      <th>sustainability_badges</th>\n",
              "      <td>39267</td>\n",
              "    </tr>\n",
              "    <tr>\n",
              "      <th>image_url</th>\n",
              "      <td>0</td>\n",
              "    </tr>\n",
              "    <tr>\n",
              "      <th>product_url</th>\n",
              "      <td>2069</td>\n",
              "    </tr>\n",
              "    <tr>\n",
              "      <th>collected_at</th>\n",
              "      <td>0</td>\n",
              "    </tr>\n",
              "  </tbody>\n",
              "</table>\n",
              "</div><br><label><b>dtype:</b> int64</label>"
            ]
          },
          "metadata": {},
          "execution_count": 10
        }
      ]
    },
    {
      "cell_type": "code",
      "source": [
        "df.describe()"
      ],
      "metadata": {
        "colab": {
          "base_uri": "https://localhost:8080/",
          "height": 281
        },
        "id": "sKFYhIhXeCxH",
        "outputId": "dc7917b3-275e-40be-c77f-478164abfcbe"
      },
      "execution_count": 11,
      "outputs": [
        {
          "output_type": "execute_result",
          "data": {
            "text/plain": [
              "                                                    title              rating  \\\n",
              "count                                               42675               41651   \n",
              "unique                                               8808                  31   \n",
              "top     Duracell Coppertop 9V Battery, 6 Count (Pack o...  4.6 out of 5 stars   \n",
              "freq                                                  744                6151   \n",
              "\n",
              "       number_of_reviews       bought_in_last_month current/discounted_price  \\\n",
              "count              41651                      39458                    30926   \n",
              "unique              4413                         59                     2576   \n",
              "top                   25  100+ bought in past month                    29.99   \n",
              "freq                 626                       8801                      825   \n",
              "\n",
              "                price_on_variant listed_price is_best_seller is_sponsored  \\\n",
              "count                      42675        42675          42675        42675   \n",
              "unique                      3466          911             12            2   \n",
              "top     basic variant price: nan  No Discount       No Badge      Organic   \n",
              "freq                       21031        30364          40814        35664   \n",
              "\n",
              "       is_couponed buy_box_availability     delivery_details  \\\n",
              "count        42675                28022                30955   \n",
              "unique          42                    1                  298   \n",
              "top      No Coupon          Add to cart  Delivery Mon, Sep 1   \n",
              "freq         40727                28022                 6189   \n",
              "\n",
              "       sustainability_badges  \\\n",
              "count                   3408   \n",
              "unique                    16   \n",
              "top           Small Business   \n",
              "freq                    1341   \n",
              "\n",
              "                                                image_url  \\\n",
              "count                                               42675   \n",
              "unique                                               8038   \n",
              "top     https://m.media-amazon.com/images/I/51Xr76m2WL...   \n",
              "freq                                                 1461   \n",
              "\n",
              "                                              product_url         collected_at  \n",
              "count                                               40606                42675  \n",
              "unique                                              40606                 1559  \n",
              "top     /Lorex-8-Channel-Security-Outdoor-Cameras/dp/B...  2025-08-21 11:15:31  \n",
              "freq                                                    1                   33  "
            ],
            "text/html": [
              "\n",
              "  <div id=\"df-a0cff166-717e-4d54-842f-de8957b81b9c\" class=\"colab-df-container\">\n",
              "    <div>\n",
              "<style scoped>\n",
              "    .dataframe tbody tr th:only-of-type {\n",
              "        vertical-align: middle;\n",
              "    }\n",
              "\n",
              "    .dataframe tbody tr th {\n",
              "        vertical-align: top;\n",
              "    }\n",
              "\n",
              "    .dataframe thead th {\n",
              "        text-align: right;\n",
              "    }\n",
              "</style>\n",
              "<table border=\"1\" class=\"dataframe\">\n",
              "  <thead>\n",
              "    <tr style=\"text-align: right;\">\n",
              "      <th></th>\n",
              "      <th>title</th>\n",
              "      <th>rating</th>\n",
              "      <th>number_of_reviews</th>\n",
              "      <th>bought_in_last_month</th>\n",
              "      <th>current/discounted_price</th>\n",
              "      <th>price_on_variant</th>\n",
              "      <th>listed_price</th>\n",
              "      <th>is_best_seller</th>\n",
              "      <th>is_sponsored</th>\n",
              "      <th>is_couponed</th>\n",
              "      <th>buy_box_availability</th>\n",
              "      <th>delivery_details</th>\n",
              "      <th>sustainability_badges</th>\n",
              "      <th>image_url</th>\n",
              "      <th>product_url</th>\n",
              "      <th>collected_at</th>\n",
              "    </tr>\n",
              "  </thead>\n",
              "  <tbody>\n",
              "    <tr>\n",
              "      <th>count</th>\n",
              "      <td>42675</td>\n",
              "      <td>41651</td>\n",
              "      <td>41651</td>\n",
              "      <td>39458</td>\n",
              "      <td>30926</td>\n",
              "      <td>42675</td>\n",
              "      <td>42675</td>\n",
              "      <td>42675</td>\n",
              "      <td>42675</td>\n",
              "      <td>42675</td>\n",
              "      <td>28022</td>\n",
              "      <td>30955</td>\n",
              "      <td>3408</td>\n",
              "      <td>42675</td>\n",
              "      <td>40606</td>\n",
              "      <td>42675</td>\n",
              "    </tr>\n",
              "    <tr>\n",
              "      <th>unique</th>\n",
              "      <td>8808</td>\n",
              "      <td>31</td>\n",
              "      <td>4413</td>\n",
              "      <td>59</td>\n",
              "      <td>2576</td>\n",
              "      <td>3466</td>\n",
              "      <td>911</td>\n",
              "      <td>12</td>\n",
              "      <td>2</td>\n",
              "      <td>42</td>\n",
              "      <td>1</td>\n",
              "      <td>298</td>\n",
              "      <td>16</td>\n",
              "      <td>8038</td>\n",
              "      <td>40606</td>\n",
              "      <td>1559</td>\n",
              "    </tr>\n",
              "    <tr>\n",
              "      <th>top</th>\n",
              "      <td>Duracell Coppertop 9V Battery, 6 Count (Pack o...</td>\n",
              "      <td>4.6 out of 5 stars</td>\n",
              "      <td>25</td>\n",
              "      <td>100+ bought in past month</td>\n",
              "      <td>29.99</td>\n",
              "      <td>basic variant price: nan</td>\n",
              "      <td>No Discount</td>\n",
              "      <td>No Badge</td>\n",
              "      <td>Organic</td>\n",
              "      <td>No Coupon</td>\n",
              "      <td>Add to cart</td>\n",
              "      <td>Delivery Mon, Sep 1</td>\n",
              "      <td>Small Business</td>\n",
              "      <td>https://m.media-amazon.com/images/I/51Xr76m2WL...</td>\n",
              "      <td>/Lorex-8-Channel-Security-Outdoor-Cameras/dp/B...</td>\n",
              "      <td>2025-08-21 11:15:31</td>\n",
              "    </tr>\n",
              "    <tr>\n",
              "      <th>freq</th>\n",
              "      <td>744</td>\n",
              "      <td>6151</td>\n",
              "      <td>626</td>\n",
              "      <td>8801</td>\n",
              "      <td>825</td>\n",
              "      <td>21031</td>\n",
              "      <td>30364</td>\n",
              "      <td>40814</td>\n",
              "      <td>35664</td>\n",
              "      <td>40727</td>\n",
              "      <td>28022</td>\n",
              "      <td>6189</td>\n",
              "      <td>1341</td>\n",
              "      <td>1461</td>\n",
              "      <td>1</td>\n",
              "      <td>33</td>\n",
              "    </tr>\n",
              "  </tbody>\n",
              "</table>\n",
              "</div>\n",
              "    <div class=\"colab-df-buttons\">\n",
              "\n",
              "  <div class=\"colab-df-container\">\n",
              "    <button class=\"colab-df-convert\" onclick=\"convertToInteractive('df-a0cff166-717e-4d54-842f-de8957b81b9c')\"\n",
              "            title=\"Convert this dataframe to an interactive table.\"\n",
              "            style=\"display:none;\">\n",
              "\n",
              "  <svg xmlns=\"http://www.w3.org/2000/svg\" height=\"24px\" viewBox=\"0 -960 960 960\">\n",
              "    <path d=\"M120-120v-720h720v720H120Zm60-500h600v-160H180v160Zm220 220h160v-160H400v160Zm0 220h160v-160H400v160ZM180-400h160v-160H180v160Zm440 0h160v-160H620v160ZM180-180h160v-160H180v160Zm440 0h160v-160H620v160Z\"/>\n",
              "  </svg>\n",
              "    </button>\n",
              "\n",
              "  <style>\n",
              "    .colab-df-container {\n",
              "      display:flex;\n",
              "      gap: 12px;\n",
              "    }\n",
              "\n",
              "    .colab-df-convert {\n",
              "      background-color: #E8F0FE;\n",
              "      border: none;\n",
              "      border-radius: 50%;\n",
              "      cursor: pointer;\n",
              "      display: none;\n",
              "      fill: #1967D2;\n",
              "      height: 32px;\n",
              "      padding: 0 0 0 0;\n",
              "      width: 32px;\n",
              "    }\n",
              "\n",
              "    .colab-df-convert:hover {\n",
              "      background-color: #E2EBFA;\n",
              "      box-shadow: 0px 1px 2px rgba(60, 64, 67, 0.3), 0px 1px 3px 1px rgba(60, 64, 67, 0.15);\n",
              "      fill: #174EA6;\n",
              "    }\n",
              "\n",
              "    .colab-df-buttons div {\n",
              "      margin-bottom: 4px;\n",
              "    }\n",
              "\n",
              "    [theme=dark] .colab-df-convert {\n",
              "      background-color: #3B4455;\n",
              "      fill: #D2E3FC;\n",
              "    }\n",
              "\n",
              "    [theme=dark] .colab-df-convert:hover {\n",
              "      background-color: #434B5C;\n",
              "      box-shadow: 0px 1px 3px 1px rgba(0, 0, 0, 0.15);\n",
              "      filter: drop-shadow(0px 1px 2px rgba(0, 0, 0, 0.3));\n",
              "      fill: #FFFFFF;\n",
              "    }\n",
              "  </style>\n",
              "\n",
              "    <script>\n",
              "      const buttonEl =\n",
              "        document.querySelector('#df-a0cff166-717e-4d54-842f-de8957b81b9c button.colab-df-convert');\n",
              "      buttonEl.style.display =\n",
              "        google.colab.kernel.accessAllowed ? 'block' : 'none';\n",
              "\n",
              "      async function convertToInteractive(key) {\n",
              "        const element = document.querySelector('#df-a0cff166-717e-4d54-842f-de8957b81b9c');\n",
              "        const dataTable =\n",
              "          await google.colab.kernel.invokeFunction('convertToInteractive',\n",
              "                                                    [key], {});\n",
              "        if (!dataTable) return;\n",
              "\n",
              "        const docLinkHtml = 'Like what you see? Visit the ' +\n",
              "          '<a target=\"_blank\" href=https://colab.research.google.com/notebooks/data_table.ipynb>data table notebook</a>'\n",
              "          + ' to learn more about interactive tables.';\n",
              "        element.innerHTML = '';\n",
              "        dataTable['output_type'] = 'display_data';\n",
              "        await google.colab.output.renderOutput(dataTable, element);\n",
              "        const docLink = document.createElement('div');\n",
              "        docLink.innerHTML = docLinkHtml;\n",
              "        element.appendChild(docLink);\n",
              "      }\n",
              "    </script>\n",
              "  </div>\n",
              "\n",
              "\n",
              "    <div id=\"df-1df3fbff-7f06-4125-be08-4cbc67d70ecb\">\n",
              "      <button class=\"colab-df-quickchart\" onclick=\"quickchart('df-1df3fbff-7f06-4125-be08-4cbc67d70ecb')\"\n",
              "                title=\"Suggest charts\"\n",
              "                style=\"display:none;\">\n",
              "\n",
              "<svg xmlns=\"http://www.w3.org/2000/svg\" height=\"24px\"viewBox=\"0 0 24 24\"\n",
              "     width=\"24px\">\n",
              "    <g>\n",
              "        <path d=\"M19 3H5c-1.1 0-2 .9-2 2v14c0 1.1.9 2 2 2h14c1.1 0 2-.9 2-2V5c0-1.1-.9-2-2-2zM9 17H7v-7h2v7zm4 0h-2V7h2v10zm4 0h-2v-4h2v4z\"/>\n",
              "    </g>\n",
              "</svg>\n",
              "      </button>\n",
              "\n",
              "<style>\n",
              "  .colab-df-quickchart {\n",
              "      --bg-color: #E8F0FE;\n",
              "      --fill-color: #1967D2;\n",
              "      --hover-bg-color: #E2EBFA;\n",
              "      --hover-fill-color: #174EA6;\n",
              "      --disabled-fill-color: #AAA;\n",
              "      --disabled-bg-color: #DDD;\n",
              "  }\n",
              "\n",
              "  [theme=dark] .colab-df-quickchart {\n",
              "      --bg-color: #3B4455;\n",
              "      --fill-color: #D2E3FC;\n",
              "      --hover-bg-color: #434B5C;\n",
              "      --hover-fill-color: #FFFFFF;\n",
              "      --disabled-bg-color: #3B4455;\n",
              "      --disabled-fill-color: #666;\n",
              "  }\n",
              "\n",
              "  .colab-df-quickchart {\n",
              "    background-color: var(--bg-color);\n",
              "    border: none;\n",
              "    border-radius: 50%;\n",
              "    cursor: pointer;\n",
              "    display: none;\n",
              "    fill: var(--fill-color);\n",
              "    height: 32px;\n",
              "    padding: 0;\n",
              "    width: 32px;\n",
              "  }\n",
              "\n",
              "  .colab-df-quickchart:hover {\n",
              "    background-color: var(--hover-bg-color);\n",
              "    box-shadow: 0 1px 2px rgba(60, 64, 67, 0.3), 0 1px 3px 1px rgba(60, 64, 67, 0.15);\n",
              "    fill: var(--button-hover-fill-color);\n",
              "  }\n",
              "\n",
              "  .colab-df-quickchart-complete:disabled,\n",
              "  .colab-df-quickchart-complete:disabled:hover {\n",
              "    background-color: var(--disabled-bg-color);\n",
              "    fill: var(--disabled-fill-color);\n",
              "    box-shadow: none;\n",
              "  }\n",
              "\n",
              "  .colab-df-spinner {\n",
              "    border: 2px solid var(--fill-color);\n",
              "    border-color: transparent;\n",
              "    border-bottom-color: var(--fill-color);\n",
              "    animation:\n",
              "      spin 1s steps(1) infinite;\n",
              "  }\n",
              "\n",
              "  @keyframes spin {\n",
              "    0% {\n",
              "      border-color: transparent;\n",
              "      border-bottom-color: var(--fill-color);\n",
              "      border-left-color: var(--fill-color);\n",
              "    }\n",
              "    20% {\n",
              "      border-color: transparent;\n",
              "      border-left-color: var(--fill-color);\n",
              "      border-top-color: var(--fill-color);\n",
              "    }\n",
              "    30% {\n",
              "      border-color: transparent;\n",
              "      border-left-color: var(--fill-color);\n",
              "      border-top-color: var(--fill-color);\n",
              "      border-right-color: var(--fill-color);\n",
              "    }\n",
              "    40% {\n",
              "      border-color: transparent;\n",
              "      border-right-color: var(--fill-color);\n",
              "      border-top-color: var(--fill-color);\n",
              "    }\n",
              "    60% {\n",
              "      border-color: transparent;\n",
              "      border-right-color: var(--fill-color);\n",
              "    }\n",
              "    80% {\n",
              "      border-color: transparent;\n",
              "      border-right-color: var(--fill-color);\n",
              "      border-bottom-color: var(--fill-color);\n",
              "    }\n",
              "    90% {\n",
              "      border-color: transparent;\n",
              "      border-bottom-color: var(--fill-color);\n",
              "    }\n",
              "  }\n",
              "</style>\n",
              "\n",
              "      <script>\n",
              "        async function quickchart(key) {\n",
              "          const quickchartButtonEl =\n",
              "            document.querySelector('#' + key + ' button');\n",
              "          quickchartButtonEl.disabled = true;  // To prevent multiple clicks.\n",
              "          quickchartButtonEl.classList.add('colab-df-spinner');\n",
              "          try {\n",
              "            const charts = await google.colab.kernel.invokeFunction(\n",
              "                'suggestCharts', [key], {});\n",
              "          } catch (error) {\n",
              "            console.error('Error during call to suggestCharts:', error);\n",
              "          }\n",
              "          quickchartButtonEl.classList.remove('colab-df-spinner');\n",
              "          quickchartButtonEl.classList.add('colab-df-quickchart-complete');\n",
              "        }\n",
              "        (() => {\n",
              "          let quickchartButtonEl =\n",
              "            document.querySelector('#df-1df3fbff-7f06-4125-be08-4cbc67d70ecb button');\n",
              "          quickchartButtonEl.style.display =\n",
              "            google.colab.kernel.accessAllowed ? 'block' : 'none';\n",
              "        })();\n",
              "      </script>\n",
              "    </div>\n",
              "\n",
              "    </div>\n",
              "  </div>\n"
            ],
            "application/vnd.google.colaboratory.intrinsic+json": {
              "type": "dataframe",
              "summary": "{\n  \"name\": \"df\",\n  \"rows\": 4,\n  \"fields\": [\n    {\n      \"column\": \"title\",\n      \"properties\": {\n        \"dtype\": \"string\",\n        \"num_unique_values\": 4,\n        \"samples\": [\n          8808,\n          \"744\",\n          \"42675\"\n        ],\n        \"semantic_type\": \"\",\n        \"description\": \"\"\n      }\n    },\n    {\n      \"column\": \"rating\",\n      \"properties\": {\n        \"dtype\": \"string\",\n        \"num_unique_values\": 4,\n        \"samples\": [\n          31,\n          \"6151\",\n          \"41651\"\n        ],\n        \"semantic_type\": \"\",\n        \"description\": \"\"\n      }\n    },\n    {\n      \"column\": \"number_of_reviews\",\n      \"properties\": {\n        \"dtype\": \"string\",\n        \"num_unique_values\": 4,\n        \"samples\": [\n          4413,\n          \"626\",\n          \"41651\"\n        ],\n        \"semantic_type\": \"\",\n        \"description\": \"\"\n      }\n    },\n    {\n      \"column\": \"bought_in_last_month\",\n      \"properties\": {\n        \"dtype\": \"string\",\n        \"num_unique_values\": 4,\n        \"samples\": [\n          59,\n          \"8801\",\n          \"39458\"\n        ],\n        \"semantic_type\": \"\",\n        \"description\": \"\"\n      }\n    },\n    {\n      \"column\": \"current/discounted_price\",\n      \"properties\": {\n        \"dtype\": \"string\",\n        \"num_unique_values\": 4,\n        \"samples\": [\n          2576,\n          \"825\",\n          \"30926\"\n        ],\n        \"semantic_type\": \"\",\n        \"description\": \"\"\n      }\n    },\n    {\n      \"column\": \"price_on_variant\",\n      \"properties\": {\n        \"dtype\": \"string\",\n        \"num_unique_values\": 4,\n        \"samples\": [\n          3466,\n          \"21031\",\n          \"42675\"\n        ],\n        \"semantic_type\": \"\",\n        \"description\": \"\"\n      }\n    },\n    {\n      \"column\": \"listed_price\",\n      \"properties\": {\n        \"dtype\": \"string\",\n        \"num_unique_values\": 4,\n        \"samples\": [\n          911,\n          \"30364\",\n          \"42675\"\n        ],\n        \"semantic_type\": \"\",\n        \"description\": \"\"\n      }\n    },\n    {\n      \"column\": \"is_best_seller\",\n      \"properties\": {\n        \"dtype\": \"string\",\n        \"num_unique_values\": 4,\n        \"samples\": [\n          12,\n          \"40814\",\n          \"42675\"\n        ],\n        \"semantic_type\": \"\",\n        \"description\": \"\"\n      }\n    },\n    {\n      \"column\": \"is_sponsored\",\n      \"properties\": {\n        \"dtype\": \"string\",\n        \"num_unique_values\": 4,\n        \"samples\": [\n          2,\n          \"35664\",\n          \"42675\"\n        ],\n        \"semantic_type\": \"\",\n        \"description\": \"\"\n      }\n    },\n    {\n      \"column\": \"is_couponed\",\n      \"properties\": {\n        \"dtype\": \"string\",\n        \"num_unique_values\": 4,\n        \"samples\": [\n          42,\n          \"40727\",\n          \"42675\"\n        ],\n        \"semantic_type\": \"\",\n        \"description\": \"\"\n      }\n    },\n    {\n      \"column\": \"buy_box_availability\",\n      \"properties\": {\n        \"dtype\": \"string\",\n        \"num_unique_values\": 3,\n        \"samples\": [\n          \"28022\",\n          1,\n          \"Add to cart\"\n        ],\n        \"semantic_type\": \"\",\n        \"description\": \"\"\n      }\n    },\n    {\n      \"column\": \"delivery_details\",\n      \"properties\": {\n        \"dtype\": \"string\",\n        \"num_unique_values\": 4,\n        \"samples\": [\n          298,\n          \"6189\",\n          \"30955\"\n        ],\n        \"semantic_type\": \"\",\n        \"description\": \"\"\n      }\n    },\n    {\n      \"column\": \"sustainability_badges\",\n      \"properties\": {\n        \"dtype\": \"string\",\n        \"num_unique_values\": 4,\n        \"samples\": [\n          16,\n          \"1341\",\n          \"3408\"\n        ],\n        \"semantic_type\": \"\",\n        \"description\": \"\"\n      }\n    },\n    {\n      \"column\": \"image_url\",\n      \"properties\": {\n        \"dtype\": \"string\",\n        \"num_unique_values\": 4,\n        \"samples\": [\n          8038,\n          \"1461\",\n          \"42675\"\n        ],\n        \"semantic_type\": \"\",\n        \"description\": \"\"\n      }\n    },\n    {\n      \"column\": \"product_url\",\n      \"properties\": {\n        \"dtype\": \"string\",\n        \"num_unique_values\": 3,\n        \"samples\": [\n          \"40606\",\n          \"/Lorex-8-Channel-Security-Outdoor-Cameras/dp/B092FL5BXM/ref=sr_1_36528?dib=eyJ2IjoiMSJ9.ou_Uy7EBRLzn7Uon8wO_GqP3thr-dWaEe-w3bcUfX0O3vaO8DzaDlouejESG1t9OlnY32UhJNPqsL3DHEVbg-H0IjRdSvyE9FIDpWThrFm36QqEMbHHdRB5m8d2_tEVuDFxqkkI-HWHNTnaitpvbwE3C2JqK-A2xfdU-m3ChB605QHIcmuO-uXKsVbTcGjK9nm19tehzykPpfrNtgsTK_EC9AKpmePD1cB8ccRV-bwAGHZZMsFNi9FcvLnv3BXntID8VCVESTqWe-uNwQXRdTHmfaYfdZYVMnnNzCGd2TgU.HITPDch-LQLcFIOODsYkVZS1Z3QvkbXi-kD01VFtM0A&dib_tag=se&qid=1756608991&refinements=p_n_g-101014971069111%3A119653281011&s=electronics&sr=1-36528\",\n          \"1\"\n        ],\n        \"semantic_type\": \"\",\n        \"description\": \"\"\n      }\n    },\n    {\n      \"column\": \"collected_at\",\n      \"properties\": {\n        \"dtype\": \"date\",\n        \"min\": \"1970-01-01 00:00:00.000000033\",\n        \"max\": \"2025-08-21 11:15:31\",\n        \"num_unique_values\": 4,\n        \"samples\": [\n          1559,\n          \"33\",\n          \"42675\"\n        ],\n        \"semantic_type\": \"\",\n        \"description\": \"\"\n      }\n    }\n  ]\n}"
            }
          },
          "metadata": {},
          "execution_count": 11
        }
      ]
    },
    {
      "cell_type": "markdown",
      "source": [
        "Currently, all features are stored as object types, which prevents us from calculating statistics such as sum or standard deviation. However, some columns that appear as strings could in fact be numerical. These should be identified and converted to numeric types to enable meaningful statistical analysis."
      ],
      "metadata": {
        "id": "dYxSvnx0eND1"
      }
    },
    {
      "cell_type": "markdown",
      "source": [
        "# Analysing of the types"
      ],
      "metadata": {
        "id": "zw8PQhRLfcrO"
      }
    },
    {
      "cell_type": "markdown",
      "source": [
        "##title Feature"
      ],
      "metadata": {
        "id": "F0-FTXHMCcHF"
      }
    },
    {
      "cell_type": "code",
      "source": [
        "df['title']"
      ],
      "metadata": {
        "colab": {
          "base_uri": "https://localhost:8080/",
          "height": 458
        },
        "id": "mADuKAYRvAIJ",
        "outputId": "035d7641-604b-4d50-f4c5-0af385292f29"
      },
      "execution_count": 12,
      "outputs": [
        {
          "output_type": "execute_result",
          "data": {
            "text/plain": [
              "0        BOYA BOYALINK 2 Wireless Lavalier Microphone f...\n",
              "1        LISEN USB C to Lightning Cable, 240W 4 in 1 Ch...\n",
              "2        DJI Mic 2 (2 TX + 1 RX + Charging Case), Wirel...\n",
              "3        Apple AirPods Pro 2 Wireless Earbuds, Active N...\n",
              "4        Apple AirTag 4 Pack. Keep Track of and find Yo...\n",
              "                               ...                        \n",
              "42670    Elgato 4K Pro, Internal Capture Card: 8K60 Pas...\n",
              "42671    Arlo Essential Spotlight Camera, Wireless Secu...\n",
              "42672    GIGABYTE - AORUS FO32U2-32\" QD OLED Gaming Mon...\n",
              "42673    Monoprice XLR Male to 1/4-Inch TRS Male Cable ...\n",
              "42674    Lorex Fusion 1080p HD Security Camera System w...\n",
              "Name: title, Length: 42675, dtype: object"
            ],
            "text/html": [
              "<div>\n",
              "<style scoped>\n",
              "    .dataframe tbody tr th:only-of-type {\n",
              "        vertical-align: middle;\n",
              "    }\n",
              "\n",
              "    .dataframe tbody tr th {\n",
              "        vertical-align: top;\n",
              "    }\n",
              "\n",
              "    .dataframe thead th {\n",
              "        text-align: right;\n",
              "    }\n",
              "</style>\n",
              "<table border=\"1\" class=\"dataframe\">\n",
              "  <thead>\n",
              "    <tr style=\"text-align: right;\">\n",
              "      <th></th>\n",
              "      <th>title</th>\n",
              "    </tr>\n",
              "  </thead>\n",
              "  <tbody>\n",
              "    <tr>\n",
              "      <th>0</th>\n",
              "      <td>BOYA BOYALINK 2 Wireless Lavalier Microphone f...</td>\n",
              "    </tr>\n",
              "    <tr>\n",
              "      <th>1</th>\n",
              "      <td>LISEN USB C to Lightning Cable, 240W 4 in 1 Ch...</td>\n",
              "    </tr>\n",
              "    <tr>\n",
              "      <th>2</th>\n",
              "      <td>DJI Mic 2 (2 TX + 1 RX + Charging Case), Wirel...</td>\n",
              "    </tr>\n",
              "    <tr>\n",
              "      <th>3</th>\n",
              "      <td>Apple AirPods Pro 2 Wireless Earbuds, Active N...</td>\n",
              "    </tr>\n",
              "    <tr>\n",
              "      <th>4</th>\n",
              "      <td>Apple AirTag 4 Pack. Keep Track of and find Yo...</td>\n",
              "    </tr>\n",
              "    <tr>\n",
              "      <th>...</th>\n",
              "      <td>...</td>\n",
              "    </tr>\n",
              "    <tr>\n",
              "      <th>42670</th>\n",
              "      <td>Elgato 4K Pro, Internal Capture Card: 8K60 Pas...</td>\n",
              "    </tr>\n",
              "    <tr>\n",
              "      <th>42671</th>\n",
              "      <td>Arlo Essential Spotlight Camera, Wireless Secu...</td>\n",
              "    </tr>\n",
              "    <tr>\n",
              "      <th>42672</th>\n",
              "      <td>GIGABYTE - AORUS FO32U2-32\" QD OLED Gaming Mon...</td>\n",
              "    </tr>\n",
              "    <tr>\n",
              "      <th>42673</th>\n",
              "      <td>Monoprice XLR Male to 1/4-Inch TRS Male Cable ...</td>\n",
              "    </tr>\n",
              "    <tr>\n",
              "      <th>42674</th>\n",
              "      <td>Lorex Fusion 1080p HD Security Camera System w...</td>\n",
              "    </tr>\n",
              "  </tbody>\n",
              "</table>\n",
              "<p>42675 rows × 1 columns</p>\n",
              "</div><br><label><b>dtype:</b> object</label>"
            ]
          },
          "metadata": {},
          "execution_count": 12
        }
      ]
    },
    {
      "cell_type": "code",
      "source": [
        "import re\n",
        "\n",
        "def clean_text(text):\n",
        "    text = text.lower()\n",
        "    text = re.sub(r'[^a-z0-9\\s]', '', text)\n",
        "    return text"
      ],
      "metadata": {
        "id": "MSwCkyK7Co52"
      },
      "execution_count": 13,
      "outputs": []
    },
    {
      "cell_type": "code",
      "source": [
        "category_keywords = {\n",
        "    'Laptops': [\n",
        "        'laptop', 'notebook', 'macbook', 'chromebook', 'ultrabook', 'acer', 'asus', 'dell', 'lenovo', 'hp', 'core',\n",
        "        'intel', 'ryzen', 'surface', 'thinkpad', 'ideapad'\n",
        "    ],\n",
        "    'Phones': [\n",
        "        'phone', 'iphone', 'smartphone', 'samsung', 'android', 'galaxy', 'pixel', 'oneplus', 'xiaomi', 'oppo',\n",
        "        'realme', 'huawei', 'vivo', 'nokia', 'motorola'\n",
        "    ],\n",
        "    'Headphones': [\n",
        "        'headphone', 'headset', 'earphone', 'earbuds', 'airpods', 'beats', 'sony wh', 'wireless buds', 'neckband'\n",
        "    ],\n",
        "    'Chargers & Cables': [\n",
        "        'charger', 'charging', 'cable', 'adapter', 'dock', 'usb c', 'type c', 'lightning', 'power adapter', 'usb cable'\n",
        "    ],\n",
        "    'Cameras': [\n",
        "        'camera', 'dslr', 'mirrorless', 'canon', 'nikon', 'gopro', 'instax', 'webcam', 'camcorder', 'security camera'\n",
        "    ],\n",
        "    'Storage': [\n",
        "        'ssd', 'hard drive', 'memory card', 'flash drive', 'pendrive', 'hdd', 'storage', 'micro sd', 'sd card'\n",
        "    ],\n",
        "    'Smart Home': [\n",
        "        'alexa', 'echo', 'smart plug', 'smart bulb', 'smart home', 'nest', 'homekit', 'smart switch'\n",
        "    ],\n",
        "    'TV & Display': [\n",
        "        'monitor', 'display', 'tv', 'screen', 'projector', 'oled', 'led', 'curved monitor', 'uhd', '4k'\n",
        "    ],\n",
        "    'Power & Batteries': [\n",
        "        'battery', 'power bank', 'rechargeable', 'aa', 'aaa', 'portable power', 'cell'\n",
        "    ],\n",
        "    'Networking': [\n",
        "        'wifi', 'router', 'modem', 'ethernet', 'access point', 'mesh', 'network switch'\n",
        "    ],\n",
        "    'Wearables': [\n",
        "        'smartwatch', 'fitness band', 'fitbit', 'watch', 'garmin', 'amazfit'\n",
        "    ],\n",
        "    'Speakers': [\n",
        "        'speaker', 'soundbar', 'subwoofer', 'bluetooth speaker', 'party speaker', 'home theater'\n",
        "    ],\n",
        "    'Printers & Scanners': [\n",
        "        'printer', 'scanner', 'inkjet', 'laserjet', 'photocopier', 'all in one printer'\n",
        "    ],\n",
        "    'Gaming': [\n",
        "        'gaming console', 'playstation', 'ps5', 'ps4', 'xbox', 'nintendo', 'joystick', 'controller', 'gaming mouse',\n",
        "        'gaming keyboard', 'gaming chair'\n",
        "    ],\n",
        "    'Other Electronics': []\n",
        "}"
      ],
      "metadata": {
        "id": "mubRntaXCbGd"
      },
      "execution_count": 14,
      "outputs": []
    },
    {
      "cell_type": "code",
      "source": [
        "def assign_category_simple(title):\n",
        "    title_clean = clean_text(title)\n",
        "    for category, keywords in category_keywords.items():\n",
        "        for kw in keywords:\n",
        "            if kw in title_clean:\n",
        "                return category\n",
        "    return 'Other Electronics'"
      ],
      "metadata": {
        "id": "wJXmZmdTCyKG"
      },
      "execution_count": 15,
      "outputs": []
    },
    {
      "cell_type": "code",
      "source": [
        "df['category'] = df['title'].apply(assign_category_simple)\n",
        "\n",
        "df['category'].value_counts()"
      ],
      "metadata": {
        "colab": {
          "base_uri": "https://localhost:8080/",
          "height": 585
        },
        "id": "zGAsfulgC0VN",
        "outputId": "3a075df6-161e-4afc-eb39-2885d7e90ccd"
      },
      "execution_count": 16,
      "outputs": [
        {
          "output_type": "execute_result",
          "data": {
            "text/plain": [
              "category\n",
              "Other Electronics      8755\n",
              "Laptops                8693\n",
              "Phones                 6563\n",
              "Cameras                3677\n",
              "Power & Batteries      2877\n",
              "TV & Display           2630\n",
              "Chargers & Cables      1833\n",
              "Storage                1630\n",
              "Speakers               1345\n",
              "Networking             1070\n",
              "Headphones              997\n",
              "Printers & Scanners     877\n",
              "Gaming                  809\n",
              "Smart Home              465\n",
              "Wearables               454\n",
              "Name: count, dtype: int64"
            ],
            "text/html": [
              "<div>\n",
              "<style scoped>\n",
              "    .dataframe tbody tr th:only-of-type {\n",
              "        vertical-align: middle;\n",
              "    }\n",
              "\n",
              "    .dataframe tbody tr th {\n",
              "        vertical-align: top;\n",
              "    }\n",
              "\n",
              "    .dataframe thead th {\n",
              "        text-align: right;\n",
              "    }\n",
              "</style>\n",
              "<table border=\"1\" class=\"dataframe\">\n",
              "  <thead>\n",
              "    <tr style=\"text-align: right;\">\n",
              "      <th></th>\n",
              "      <th>count</th>\n",
              "    </tr>\n",
              "    <tr>\n",
              "      <th>category</th>\n",
              "      <th></th>\n",
              "    </tr>\n",
              "  </thead>\n",
              "  <tbody>\n",
              "    <tr>\n",
              "      <th>Other Electronics</th>\n",
              "      <td>8755</td>\n",
              "    </tr>\n",
              "    <tr>\n",
              "      <th>Laptops</th>\n",
              "      <td>8693</td>\n",
              "    </tr>\n",
              "    <tr>\n",
              "      <th>Phones</th>\n",
              "      <td>6563</td>\n",
              "    </tr>\n",
              "    <tr>\n",
              "      <th>Cameras</th>\n",
              "      <td>3677</td>\n",
              "    </tr>\n",
              "    <tr>\n",
              "      <th>Power &amp; Batteries</th>\n",
              "      <td>2877</td>\n",
              "    </tr>\n",
              "    <tr>\n",
              "      <th>TV &amp; Display</th>\n",
              "      <td>2630</td>\n",
              "    </tr>\n",
              "    <tr>\n",
              "      <th>Chargers &amp; Cables</th>\n",
              "      <td>1833</td>\n",
              "    </tr>\n",
              "    <tr>\n",
              "      <th>Storage</th>\n",
              "      <td>1630</td>\n",
              "    </tr>\n",
              "    <tr>\n",
              "      <th>Speakers</th>\n",
              "      <td>1345</td>\n",
              "    </tr>\n",
              "    <tr>\n",
              "      <th>Networking</th>\n",
              "      <td>1070</td>\n",
              "    </tr>\n",
              "    <tr>\n",
              "      <th>Headphones</th>\n",
              "      <td>997</td>\n",
              "    </tr>\n",
              "    <tr>\n",
              "      <th>Printers &amp; Scanners</th>\n",
              "      <td>877</td>\n",
              "    </tr>\n",
              "    <tr>\n",
              "      <th>Gaming</th>\n",
              "      <td>809</td>\n",
              "    </tr>\n",
              "    <tr>\n",
              "      <th>Smart Home</th>\n",
              "      <td>465</td>\n",
              "    </tr>\n",
              "    <tr>\n",
              "      <th>Wearables</th>\n",
              "      <td>454</td>\n",
              "    </tr>\n",
              "  </tbody>\n",
              "</table>\n",
              "</div><br><label><b>dtype:</b> int64</label>"
            ]
          },
          "metadata": {},
          "execution_count": 16
        }
      ]
    },
    {
      "cell_type": "code",
      "source": [
        "category_counts = df['category'].value_counts()\n",
        "\n",
        "plt.pie(category_counts, labels=category_counts.index, autopct=\"%1.f%%\")\n",
        "plt.show()"
      ],
      "metadata": {
        "colab": {
          "base_uri": "https://localhost:8080/",
          "height": 406
        },
        "id": "QjaOGk2xvXq9",
        "outputId": "763972e5-9e5d-42e4-b0da-c270411a9d20"
      },
      "execution_count": 17,
      "outputs": [
        {
          "output_type": "display_data",
          "data": {
            "text/plain": [
              "<Figure size 640x480 with 1 Axes>"
            ],
            "image/png": "[encoded data removed]"
          },
          "metadata": {}
        }
      ]
    },
    {
      "cell_type": "code",
      "source": [
        "del df['title']"
      ],
      "metadata": {
        "id": "8EEEtc8fC6dV"
      },
      "execution_count": 18,
      "outputs": []
    },
    {
      "cell_type": "markdown",
      "source": [
        "## rating Feature"
      ],
      "metadata": {
        "id": "-pvFZTFZg8fl"
      }
    },
    {
      "cell_type": "code",
      "source": [
        "df[\"rating\"].value_counts()"
      ],
      "metadata": {
        "colab": {
          "base_uri": "https://localhost:8080/",
          "height": 1000
        },
        "id": "qTWdnO0PgLt0",
        "outputId": "f9b98c0b-e262-42ea-cde9-8c2600cbdf74"
      },
      "execution_count": 19,
      "outputs": [
        {
          "output_type": "execute_result",
          "data": {
            "text/plain": [
              "rating\n",
              "4.6 out of 5 stars    6151\n",
              "4.4 out of 5 stars    5525\n",
              "4.5 out of 5 stars    5359\n",
              "4.7 out of 5 stars    4664\n",
              "4.8 out of 5 stars    4230\n",
              "4.3 out of 5 stars    2927\n",
              "4.2 out of 5 stars    2837\n",
              "4.1 out of 5 stars    1959\n",
              "4.0 out of 5 stars    1465\n",
              "3.9 out of 5 stars    1316\n",
              "3.8 out of 5 stars    1083\n",
              "5.0 out of 5 stars     995\n",
              "4.9 out of 5 stars     704\n",
              "3.6 out of 5 stars     666\n",
              "3.7 out of 5 stars     604\n",
              "3.2 out of 5 stars     363\n",
              "3.5 out of 5 stars     242\n",
              "3.4 out of 5 stars     216\n",
              "3.0 out of 5 stars     148\n",
              "2.0 out of 5 stars     143\n",
              "2.7 out of 5 stars      15\n",
              "1.5 out of 5 stars      15\n",
              "3.3 out of 5 stars       6\n",
              "2.8 out of 5 stars       4\n",
              "1.0 out of 5 stars       4\n",
              "2.4 out of 5 stars       3\n",
              "2.9 out of 5 stars       2\n",
              "3.1 out of 5 stars       2\n",
              "2.3 out of 5 stars       1\n",
              "2.5 out of 5 stars       1\n",
              "2.6 out of 5 stars       1\n",
              "Name: count, dtype: int64"
            ],
            "text/html": [
              "<div>\n",
              "<style scoped>\n",
              "    .dataframe tbody tr th:only-of-type {\n",
              "        vertical-align: middle;\n",
              "    }\n",
              "\n",
              "    .dataframe tbody tr th {\n",
              "        vertical-align: top;\n",
              "    }\n",
              "\n",
              "    .dataframe thead th {\n",
              "        text-align: right;\n",
              "    }\n",
              "</style>\n",
              "<table border=\"1\" class=\"dataframe\">\n",
              "  <thead>\n",
              "    <tr style=\"text-align: right;\">\n",
              "      <th></th>\n",
              "      <th>count</th>\n",
              "    </tr>\n",
              "    <tr>\n",
              "      <th>rating</th>\n",
              "      <th></th>\n",
              "    </tr>\n",
              "  </thead>\n",
              "  <tbody>\n",
              "    <tr>\n",
              "      <th>4.6 out of 5 stars</th>\n",
              "      <td>6151</td>\n",
              "    </tr>\n",
              "    <tr>\n",
              "      <th>4.4 out of 5 stars</th>\n",
              "      <td>5525</td>\n",
              "    </tr>\n",
              "    <tr>\n",
              "      <th>4.5 out of 5 stars</th>\n",
              "      <td>5359</td>\n",
              "    </tr>\n",
              "    <tr>\n",
              "      <th>4.7 out of 5 stars</th>\n",
              "      <td>4664</td>\n",
              "    </tr>\n",
              "    <tr>\n",
              "      <th>4.8 out of 5 stars</th>\n",
              "      <td>4230</td>\n",
              "    </tr>\n",
              "    <tr>\n",
              "      <th>4.3 out of 5 stars</th>\n",
              "      <td>2927</td>\n",
              "    </tr>\n",
              "    <tr>\n",
              "      <th>4.2 out of 5 stars</th>\n",
              "      <td>2837</td>\n",
              "    </tr>\n",
              "    <tr>\n",
              "      <th>4.1 out of 5 stars</th>\n",
              "      <td>1959</td>\n",
              "    </tr>\n",
              "    <tr>\n",
              "      <th>4.0 out of 5 stars</th>\n",
              "      <td>1465</td>\n",
              "    </tr>\n",
              "    <tr>\n",
              "      <th>3.9 out of 5 stars</th>\n",
              "      <td>1316</td>\n",
              "    </tr>\n",
              "    <tr>\n",
              "      <th>3.8 out of 5 stars</th>\n",
              "      <td>1083</td>\n",
              "    </tr>\n",
              "    <tr>\n",
              "      <th>5.0 out of 5 stars</th>\n",
              "      <td>995</td>\n",
              "    </tr>\n",
              "    <tr>\n",
              "      <th>4.9 out of 5 stars</th>\n",
              "      <td>704</td>\n",
              "    </tr>\n",
              "    <tr>\n",
              "      <th>3.6 out of 5 stars</th>\n",
              "      <td>666</td>\n",
              "    </tr>\n",
              "    <tr>\n",
              "      <th>3.7 out of 5 stars</th>\n",
              "      <td>604</td>\n",
              "    </tr>\n",
              "    <tr>\n",
              "      <th>3.2 out of 5 stars</th>\n",
              "      <td>363</td>\n",
              "    </tr>\n",
              "    <tr>\n",
              "      <th>3.5 out of 5 stars</th>\n",
              "      <td>242</td>\n",
              "    </tr>\n",
              "    <tr>\n",
              "      <th>3.4 out of 5 stars</th>\n",
              "      <td>216</td>\n",
              "    </tr>\n",
              "    <tr>\n",
              "      <th>3.0 out of 5 stars</th>\n",
              "      <td>148</td>\n",
              "    </tr>\n",
              "    <tr>\n",
              "      <th>2.0 out of 5 stars</th>\n",
              "      <td>143</td>\n",
              "    </tr>\n",
              "    <tr>\n",
              "      <th>2.7 out of 5 stars</th>\n",
              "      <td>15</td>\n",
              "    </tr>\n",
              "    <tr>\n",
              "      <th>1.5 out of 5 stars</th>\n",
              "      <td>15</td>\n",
              "    </tr>\n",
              "    <tr>\n",
              "      <th>3.3 out of 5 stars</th>\n",
              "      <td>6</td>\n",
              "    </tr>\n",
              "    <tr>\n",
              "      <th>2.8 out of 5 stars</th>\n",
              "      <td>4</td>\n",
              "    </tr>\n",
              "    <tr>\n",
              "      <th>1.0 out of 5 stars</th>\n",
              "      <td>4</td>\n",
              "    </tr>\n",
              "    <tr>\n",
              "      <th>2.4 out of 5 stars</th>\n",
              "      <td>3</td>\n",
              "    </tr>\n",
              "    <tr>\n",
              "      <th>2.9 out of 5 stars</th>\n",
              "      <td>2</td>\n",
              "    </tr>\n",
              "    <tr>\n",
              "      <th>3.1 out of 5 stars</th>\n",
              "      <td>2</td>\n",
              "    </tr>\n",
              "    <tr>\n",
              "      <th>2.3 out of 5 stars</th>\n",
              "      <td>1</td>\n",
              "    </tr>\n",
              "    <tr>\n",
              "      <th>2.5 out of 5 stars</th>\n",
              "      <td>1</td>\n",
              "    </tr>\n",
              "    <tr>\n",
              "      <th>2.6 out of 5 stars</th>\n",
              "      <td>1</td>\n",
              "    </tr>\n",
              "  </tbody>\n",
              "</table>\n",
              "</div><br><label><b>dtype:</b> int64</label>"
            ]
          },
          "metadata": {},
          "execution_count": 19
        }
      ]
    },
    {
      "cell_type": "code",
      "source": [
        "df[\"rating\"].map(lambda rate: str(rate)[3:]).value_counts()"
      ],
      "metadata": {
        "colab": {
          "base_uri": "https://localhost:8080/",
          "height": 178
        },
        "id": "TbGgCnLyeGjB",
        "outputId": "9e0cd633-2385-4a8a-9cb8-6ec555940180"
      },
      "execution_count": 20,
      "outputs": [
        {
          "output_type": "execute_result",
          "data": {
            "text/plain": [
              "rating\n",
              " out of 5 stars    41651\n",
              "                    1024\n",
              "Name: count, dtype: int64"
            ],
            "text/html": [
              "<div>\n",
              "<style scoped>\n",
              "    .dataframe tbody tr th:only-of-type {\n",
              "        vertical-align: middle;\n",
              "    }\n",
              "\n",
              "    .dataframe tbody tr th {\n",
              "        vertical-align: top;\n",
              "    }\n",
              "\n",
              "    .dataframe thead th {\n",
              "        text-align: right;\n",
              "    }\n",
              "</style>\n",
              "<table border=\"1\" class=\"dataframe\">\n",
              "  <thead>\n",
              "    <tr style=\"text-align: right;\">\n",
              "      <th></th>\n",
              "      <th>count</th>\n",
              "    </tr>\n",
              "    <tr>\n",
              "      <th>rating</th>\n",
              "      <th></th>\n",
              "    </tr>\n",
              "  </thead>\n",
              "  <tbody>\n",
              "    <tr>\n",
              "      <th>out of 5 stars</th>\n",
              "      <td>41651</td>\n",
              "    </tr>\n",
              "    <tr>\n",
              "      <th></th>\n",
              "      <td>1024</td>\n",
              "    </tr>\n",
              "  </tbody>\n",
              "</table>\n",
              "</div><br><label><b>dtype:</b> int64</label>"
            ]
          },
          "metadata": {},
          "execution_count": 20
        }
      ]
    },
    {
      "cell_type": "markdown",
      "source": [
        "The rating feature contains values ending with ‘out of 5 stars,’ which prevents direct conversion into numeric form. To address this issue, the text component will be removed, leaving only the numeric values. Additionally, 1,024 entries in the dataset are null."
      ],
      "metadata": {
        "id": "wD7fJrCTgZpK"
      }
    },
    {
      "cell_type": "code",
      "source": [
        "df[\"rating\"] = df[\"rating\"].astype(str).str.extract(r\"(\\d+\\.\\d+)\").astype(np.float32)\n",
        "print(f\"Type: {df['rating'].dtype}, Data: {df['rating']}\")"
      ],
      "metadata": {
        "colab": {
          "base_uri": "https://localhost:8080/"
        },
        "id": "P1gfHvcbfaux",
        "outputId": "c2b48ada-4308-4b0e-ed7e-b36854ed3aa2"
      },
      "execution_count": 21,
      "outputs": [
        {
          "output_type": "stream",
          "name": "stdout",
          "text": [
            "Type: float32, Data: 0        4.6\n",
            "1        4.3\n",
            "2        4.6\n",
            "3        4.6\n",
            "4        4.8\n",
            "        ... \n",
            "42670    5.0\n",
            "42671    4.2\n",
            "42672    4.3\n",
            "42673    4.7\n",
            "42674    4.4\n",
            "Name: rating, Length: 42675, dtype: float32\n"
          ]
        }
      ]
    },
    {
      "cell_type": "markdown",
      "source": [
        "##number_of_reviews Feature"
      ],
      "metadata": {
        "id": "vAKvt4G2ihKN"
      }
    },
    {
      "cell_type": "code",
      "source": [
        "df['number_of_reviews']"
      ],
      "metadata": {
        "colab": {
          "base_uri": "https://localhost:8080/",
          "height": 458
        },
        "id": "F58kxWeeg44n",
        "outputId": "d0ec30a1-5887-4753-badb-075c7887651e"
      },
      "execution_count": 22,
      "outputs": [
        {
          "output_type": "execute_result",
          "data": {
            "text/plain": [
              "0           375\n",
              "1         2,457\n",
              "2         3,044\n",
              "3        35,882\n",
              "4        28,988\n",
              "          ...  \n",
              "42670         1\n",
              "42671        20\n",
              "42672        57\n",
              "42673     7,102\n",
              "42674        75\n",
              "Name: number_of_reviews, Length: 42675, dtype: object"
            ],
            "text/html": [
              "<div>\n",
              "<style scoped>\n",
              "    .dataframe tbody tr th:only-of-type {\n",
              "        vertical-align: middle;\n",
              "    }\n",
              "\n",
              "    .dataframe tbody tr th {\n",
              "        vertical-align: top;\n",
              "    }\n",
              "\n",
              "    .dataframe thead th {\n",
              "        text-align: right;\n",
              "    }\n",
              "</style>\n",
              "<table border=\"1\" class=\"dataframe\">\n",
              "  <thead>\n",
              "    <tr style=\"text-align: right;\">\n",
              "      <th></th>\n",
              "      <th>number_of_reviews</th>\n",
              "    </tr>\n",
              "  </thead>\n",
              "  <tbody>\n",
              "    <tr>\n",
              "      <th>0</th>\n",
              "      <td>375</td>\n",
              "    </tr>\n",
              "    <tr>\n",
              "      <th>1</th>\n",
              "      <td>2,457</td>\n",
              "    </tr>\n",
              "    <tr>\n",
              "      <th>2</th>\n",
              "      <td>3,044</td>\n",
              "    </tr>\n",
              "    <tr>\n",
              "      <th>3</th>\n",
              "      <td>35,882</td>\n",
              "    </tr>\n",
              "    <tr>\n",
              "      <th>4</th>\n",
              "      <td>28,988</td>\n",
              "    </tr>\n",
              "    <tr>\n",
              "      <th>...</th>\n",
              "      <td>...</td>\n",
              "    </tr>\n",
              "    <tr>\n",
              "      <th>42670</th>\n",
              "      <td>1</td>\n",
              "    </tr>\n",
              "    <tr>\n",
              "      <th>42671</th>\n",
              "      <td>20</td>\n",
              "    </tr>\n",
              "    <tr>\n",
              "      <th>42672</th>\n",
              "      <td>57</td>\n",
              "    </tr>\n",
              "    <tr>\n",
              "      <th>42673</th>\n",
              "      <td>7,102</td>\n",
              "    </tr>\n",
              "    <tr>\n",
              "      <th>42674</th>\n",
              "      <td>75</td>\n",
              "    </tr>\n",
              "  </tbody>\n",
              "</table>\n",
              "<p>42675 rows × 1 columns</p>\n",
              "</div><br><label><b>dtype:</b> object</label>"
            ]
          },
          "metadata": {},
          "execution_count": 22
        }
      ]
    },
    {
      "cell_type": "markdown",
      "source": [
        "Several numeric fields are formatted with thousands separators (e.g., ‘7,102’ instead of ‘7102’) and stored as strings. This formatting blocks numeric conversion. We will remove the commas and cast these fields to numeric to enable accurate calculations."
      ],
      "metadata": {
        "id": "4z5YWM3ojHLd"
      }
    },
    {
      "cell_type": "code",
      "source": [
        "df['number_of_reviews'] = (\n",
        "    df['number_of_reviews']\n",
        "    .astype(str)\n",
        "    .str.replace(',', '', regex=False)\n",
        "    .replace('nan', pd.NA)\n",
        "    .astype('Int32')\n",
        ")"
      ],
      "metadata": {
        "id": "n_jXjitEiVUc"
      },
      "execution_count": 23,
      "outputs": []
    },
    {
      "cell_type": "markdown",
      "source": [
        "## price_on_variant Feature"
      ],
      "metadata": {
        "id": "G4NYobBQaQxR"
      }
    },
    {
      "cell_type": "code",
      "source": [
        "df['price_on_variant']"
      ],
      "metadata": {
        "colab": {
          "base_uri": "https://localhost:8080/",
          "height": 458
        },
        "id": "O2VuuRjuajzL",
        "outputId": "f6e0d926-8542-4b0d-a439-f95318cf815c"
      },
      "execution_count": 24,
      "outputs": [
        {
          "output_type": "execute_result",
          "data": {
            "text/plain": [
              "0                           basic variant price: 2.4GHz\n",
              "1                              basic variant price: nan\n",
              "2                              basic variant price: nan\n",
              "3                          basic variant price: $162.24\n",
              "4                           basic variant price: $72.74\n",
              "                              ...                      \n",
              "42670                          basic variant price: nan\n",
              "42671    basic variant price: $25.00 off coupon applied\n",
              "42672      basic variant price: Lowest price in 30 days\n",
              "42673                          basic variant price: nan\n",
              "42674                          basic variant price: nan\n",
              "Name: price_on_variant, Length: 42675, dtype: object"
            ],
            "text/html": [
              "<div>\n",
              "<style scoped>\n",
              "    .dataframe tbody tr th:only-of-type {\n",
              "        vertical-align: middle;\n",
              "    }\n",
              "\n",
              "    .dataframe tbody tr th {\n",
              "        vertical-align: top;\n",
              "    }\n",
              "\n",
              "    .dataframe thead th {\n",
              "        text-align: right;\n",
              "    }\n",
              "</style>\n",
              "<table border=\"1\" class=\"dataframe\">\n",
              "  <thead>\n",
              "    <tr style=\"text-align: right;\">\n",
              "      <th></th>\n",
              "      <th>price_on_variant</th>\n",
              "    </tr>\n",
              "  </thead>\n",
              "  <tbody>\n",
              "    <tr>\n",
              "      <th>0</th>\n",
              "      <td>basic variant price: 2.4GHz</td>\n",
              "    </tr>\n",
              "    <tr>\n",
              "      <th>1</th>\n",
              "      <td>basic variant price: nan</td>\n",
              "    </tr>\n",
              "    <tr>\n",
              "      <th>2</th>\n",
              "      <td>basic variant price: nan</td>\n",
              "    </tr>\n",
              "    <tr>\n",
              "      <th>3</th>\n",
              "      <td>basic variant price: $162.24</td>\n",
              "    </tr>\n",
              "    <tr>\n",
              "      <th>4</th>\n",
              "      <td>basic variant price: $72.74</td>\n",
              "    </tr>\n",
              "    <tr>\n",
              "      <th>...</th>\n",
              "      <td>...</td>\n",
              "    </tr>\n",
              "    <tr>\n",
              "      <th>42670</th>\n",
              "      <td>basic variant price: nan</td>\n",
              "    </tr>\n",
              "    <tr>\n",
              "      <th>42671</th>\n",
              "      <td>basic variant price: $25.00 off coupon applied</td>\n",
              "    </tr>\n",
              "    <tr>\n",
              "      <th>42672</th>\n",
              "      <td>basic variant price: Lowest price in 30 days</td>\n",
              "    </tr>\n",
              "    <tr>\n",
              "      <th>42673</th>\n",
              "      <td>basic variant price: nan</td>\n",
              "    </tr>\n",
              "    <tr>\n",
              "      <th>42674</th>\n",
              "      <td>basic variant price: nan</td>\n",
              "    </tr>\n",
              "  </tbody>\n",
              "</table>\n",
              "<p>42675 rows × 1 columns</p>\n",
              "</div><br><label><b>dtype:</b> object</label>"
            ]
          },
          "metadata": {},
          "execution_count": 24
        }
      ]
    },
    {
      "cell_type": "code",
      "source": [
        "df['price_on_variant'] = df['price_on_variant'].str.split(\":\").str.get(1)\n",
        "df['price_on_variant'].head()"
      ],
      "metadata": {
        "colab": {
          "base_uri": "https://localhost:8080/",
          "height": 241
        },
        "id": "B35jsMBJauIf",
        "outputId": "d68446b7-b5f5-482b-b1c9-ae871d34559a"
      },
      "execution_count": 25,
      "outputs": [
        {
          "output_type": "execute_result",
          "data": {
            "text/plain": [
              "0      2.4GHz\n",
              "1         nan\n",
              "2         nan\n",
              "3     $162.24\n",
              "4      $72.74\n",
              "Name: price_on_variant, dtype: object"
            ],
            "text/html": [
              "<div>\n",
              "<style scoped>\n",
              "    .dataframe tbody tr th:only-of-type {\n",
              "        vertical-align: middle;\n",
              "    }\n",
              "\n",
              "    .dataframe tbody tr th {\n",
              "        vertical-align: top;\n",
              "    }\n",
              "\n",
              "    .dataframe thead th {\n",
              "        text-align: right;\n",
              "    }\n",
              "</style>\n",
              "<table border=\"1\" class=\"dataframe\">\n",
              "  <thead>\n",
              "    <tr style=\"text-align: right;\">\n",
              "      <th></th>\n",
              "      <th>price_on_variant</th>\n",
              "    </tr>\n",
              "  </thead>\n",
              "  <tbody>\n",
              "    <tr>\n",
              "      <th>0</th>\n",
              "      <td>2.4GHz</td>\n",
              "    </tr>\n",
              "    <tr>\n",
              "      <th>1</th>\n",
              "      <td>nan</td>\n",
              "    </tr>\n",
              "    <tr>\n",
              "      <th>2</th>\n",
              "      <td>nan</td>\n",
              "    </tr>\n",
              "    <tr>\n",
              "      <th>3</th>\n",
              "      <td>$162.24</td>\n",
              "    </tr>\n",
              "    <tr>\n",
              "      <th>4</th>\n",
              "      <td>$72.74</td>\n",
              "    </tr>\n",
              "  </tbody>\n",
              "</table>\n",
              "</div><br><label><b>dtype:</b> object</label>"
            ]
          },
          "metadata": {},
          "execution_count": 25
        }
      ]
    },
    {
      "cell_type": "markdown",
      "source": [
        "To capture the price, we first extract the part of the string that comes after the colon (:). This ensures we isolate the section containing price-related information."
      ],
      "metadata": {
        "id": "A3UQ8xOJayi9"
      }
    },
    {
      "cell_type": "code",
      "source": [
        "df.loc[~df['price_on_variant'].str.contains(r'\\$', na=False), 'price_on_variant'] = np.nan\n",
        "df['price_on_variant'].head()"
      ],
      "metadata": {
        "colab": {
          "base_uri": "https://localhost:8080/",
          "height": 241
        },
        "id": "YRGcCb_CbVqW",
        "outputId": "86472055-8e3e-41bc-9a87-d93f941344b2"
      },
      "execution_count": 26,
      "outputs": [
        {
          "output_type": "execute_result",
          "data": {
            "text/plain": [
              "0         NaN\n",
              "1         NaN\n",
              "2         NaN\n",
              "3     $162.24\n",
              "4      $72.74\n",
              "Name: price_on_variant, dtype: object"
            ],
            "text/html": [
              "<div>\n",
              "<style scoped>\n",
              "    .dataframe tbody tr th:only-of-type {\n",
              "        vertical-align: middle;\n",
              "    }\n",
              "\n",
              "    .dataframe tbody tr th {\n",
              "        vertical-align: top;\n",
              "    }\n",
              "\n",
              "    .dataframe thead th {\n",
              "        text-align: right;\n",
              "    }\n",
              "</style>\n",
              "<table border=\"1\" class=\"dataframe\">\n",
              "  <thead>\n",
              "    <tr style=\"text-align: right;\">\n",
              "      <th></th>\n",
              "      <th>price_on_variant</th>\n",
              "    </tr>\n",
              "  </thead>\n",
              "  <tbody>\n",
              "    <tr>\n",
              "      <th>0</th>\n",
              "      <td>NaN</td>\n",
              "    </tr>\n",
              "    <tr>\n",
              "      <th>1</th>\n",
              "      <td>NaN</td>\n",
              "    </tr>\n",
              "    <tr>\n",
              "      <th>2</th>\n",
              "      <td>NaN</td>\n",
              "    </tr>\n",
              "    <tr>\n",
              "      <th>3</th>\n",
              "      <td>$162.24</td>\n",
              "    </tr>\n",
              "    <tr>\n",
              "      <th>4</th>\n",
              "      <td>$72.74</td>\n",
              "    </tr>\n",
              "  </tbody>\n",
              "</table>\n",
              "</div><br><label><b>dtype:</b> object</label>"
            ]
          },
          "metadata": {},
          "execution_count": 26
        }
      ]
    },
    {
      "cell_type": "markdown",
      "source": [
        "If the extracted string does not contain a dollar sign ($), the value should be treated as null, as it cannot represent a valid price."
      ],
      "metadata": {
        "id": "ZLqHHdRXbbRN"
      }
    },
    {
      "cell_type": "code",
      "source": [
        "df['price_on_variant'] = df['price_on_variant'].str.strip().str.split(\" \").str.get(0)\n",
        "df['price_on_variant'].head()"
      ],
      "metadata": {
        "colab": {
          "base_uri": "https://localhost:8080/",
          "height": 241
        },
        "id": "cZiVXdvebkpu",
        "outputId": "9635144f-0d2c-4f21-d301-a1be1f2ec3f9"
      },
      "execution_count": 27,
      "outputs": [
        {
          "output_type": "execute_result",
          "data": {
            "text/plain": [
              "0        NaN\n",
              "1        NaN\n",
              "2        NaN\n",
              "3    $162.24\n",
              "4     $72.74\n",
              "Name: price_on_variant, dtype: object"
            ],
            "text/html": [
              "<div>\n",
              "<style scoped>\n",
              "    .dataframe tbody tr th:only-of-type {\n",
              "        vertical-align: middle;\n",
              "    }\n",
              "\n",
              "    .dataframe tbody tr th {\n",
              "        vertical-align: top;\n",
              "    }\n",
              "\n",
              "    .dataframe thead th {\n",
              "        text-align: right;\n",
              "    }\n",
              "</style>\n",
              "<table border=\"1\" class=\"dataframe\">\n",
              "  <thead>\n",
              "    <tr style=\"text-align: right;\">\n",
              "      <th></th>\n",
              "      <th>price_on_variant</th>\n",
              "    </tr>\n",
              "  </thead>\n",
              "  <tbody>\n",
              "    <tr>\n",
              "      <th>0</th>\n",
              "      <td>NaN</td>\n",
              "    </tr>\n",
              "    <tr>\n",
              "      <th>1</th>\n",
              "      <td>NaN</td>\n",
              "    </tr>\n",
              "    <tr>\n",
              "      <th>2</th>\n",
              "      <td>NaN</td>\n",
              "    </tr>\n",
              "    <tr>\n",
              "      <th>3</th>\n",
              "      <td>$162.24</td>\n",
              "    </tr>\n",
              "    <tr>\n",
              "      <th>4</th>\n",
              "      <td>$72.74</td>\n",
              "    </tr>\n",
              "  </tbody>\n",
              "</table>\n",
              "</div><br><label><b>dtype:</b> object</label>"
            ]
          },
          "metadata": {},
          "execution_count": 27
        }
      ]
    },
    {
      "cell_type": "markdown",
      "source": [
        "Finally, to obtain the numerical price, we split the text by spaces and select the first element. This step isolates the actual price from any extra information."
      ],
      "metadata": {
        "id": "lH4-9lWKbpvn"
      }
    },
    {
      "cell_type": "markdown",
      "source": [
        "## bought_in_last_month\tFeature"
      ],
      "metadata": {
        "id": "YesWO06qkmXG"
      }
    },
    {
      "cell_type": "code",
      "source": [
        "df['bought_in_last_month']"
      ],
      "metadata": {
        "colab": {
          "base_uri": "https://localhost:8080/",
          "height": 458
        },
        "id": "KrgeG3PfovZn",
        "outputId": "b87effbf-fe63-447f-e048-d4faf0689718"
      },
      "execution_count": 28,
      "outputs": [
        {
          "output_type": "execute_result",
          "data": {
            "text/plain": [
              "0        300+ bought in past month\n",
              "1         6K+ bought in past month\n",
              "2         2K+ bought in past month\n",
              "3        10K+ bought in past month\n",
              "4        10K+ bought in past month\n",
              "                   ...            \n",
              "42670    100+ bought in past month\n",
              "42671    200+ bought in past month\n",
              "42672     50+ bought in past month\n",
              "42673    500+ bought in past month\n",
              "42674     50+ bought in past month\n",
              "Name: bought_in_last_month, Length: 42675, dtype: object"
            ],
            "text/html": [
              "<div>\n",
              "<style scoped>\n",
              "    .dataframe tbody tr th:only-of-type {\n",
              "        vertical-align: middle;\n",
              "    }\n",
              "\n",
              "    .dataframe tbody tr th {\n",
              "        vertical-align: top;\n",
              "    }\n",
              "\n",
              "    .dataframe thead th {\n",
              "        text-align: right;\n",
              "    }\n",
              "</style>\n",
              "<table border=\"1\" class=\"dataframe\">\n",
              "  <thead>\n",
              "    <tr style=\"text-align: right;\">\n",
              "      <th></th>\n",
              "      <th>bought_in_last_month</th>\n",
              "    </tr>\n",
              "  </thead>\n",
              "  <tbody>\n",
              "    <tr>\n",
              "      <th>0</th>\n",
              "      <td>300+ bought in past month</td>\n",
              "    </tr>\n",
              "    <tr>\n",
              "      <th>1</th>\n",
              "      <td>6K+ bought in past month</td>\n",
              "    </tr>\n",
              "    <tr>\n",
              "      <th>2</th>\n",
              "      <td>2K+ bought in past month</td>\n",
              "    </tr>\n",
              "    <tr>\n",
              "      <th>3</th>\n",
              "      <td>10K+ bought in past month</td>\n",
              "    </tr>\n",
              "    <tr>\n",
              "      <th>4</th>\n",
              "      <td>10K+ bought in past month</td>\n",
              "    </tr>\n",
              "    <tr>\n",
              "      <th>...</th>\n",
              "      <td>...</td>\n",
              "    </tr>\n",
              "    <tr>\n",
              "      <th>42670</th>\n",
              "      <td>100+ bought in past month</td>\n",
              "    </tr>\n",
              "    <tr>\n",
              "      <th>42671</th>\n",
              "      <td>200+ bought in past month</td>\n",
              "    </tr>\n",
              "    <tr>\n",
              "      <th>42672</th>\n",
              "      <td>50+ bought in past month</td>\n",
              "    </tr>\n",
              "    <tr>\n",
              "      <th>42673</th>\n",
              "      <td>500+ bought in past month</td>\n",
              "    </tr>\n",
              "    <tr>\n",
              "      <th>42674</th>\n",
              "      <td>50+ bought in past month</td>\n",
              "    </tr>\n",
              "  </tbody>\n",
              "</table>\n",
              "<p>42675 rows × 1 columns</p>\n",
              "</div><br><label><b>dtype:</b> object</label>"
            ]
          },
          "metadata": {},
          "execution_count": 28
        }
      ]
    },
    {
      "cell_type": "markdown",
      "source": [
        "Some numbers in the dataset appear as ‘500+’ or ‘10k+.’ We don’t need the ‘+,’ and the ‘k’ should be replaced by multiplying the number by 1,000. Once we do that, we can convert these values into actual numbers."
      ],
      "metadata": {
        "id": "Q_pJiYY8ouml"
      }
    },
    {
      "cell_type": "code",
      "source": [
        "def convert_to_number(num):\n",
        "    if pd.isna(num):\n",
        "        return None\n",
        "\n",
        "    num_str = str(num).upper().replace(\"+\", \"\").strip()\n",
        "\n",
        "    multiplier = 1\n",
        "    if \"K\" in num_str:\n",
        "        multiplier = 1000\n",
        "        num_str = num_str.replace(\"K\", \"\")\n",
        "\n",
        "    number_part = num_str.split()[0]\n",
        "\n",
        "    try:\n",
        "        return int(float(number_part) * multiplier)\n",
        "    except ValueError:\n",
        "        return None\n",
        "\n",
        "df['bought_in_last_month'] = df['bought_in_last_month'].map(convert_to_number)\n",
        "print(f\"Type: {df['bought_in_last_month'].dtype}, Data: {df['bought_in_last_month']}\")"
      ],
      "metadata": {
        "colab": {
          "base_uri": "https://localhost:8080/"
        },
        "id": "JnxIafhlkV8m",
        "outputId": "19d36a77-4a37-4063-84e8-e0d5ec6c6527"
      },
      "execution_count": 29,
      "outputs": [
        {
          "output_type": "stream",
          "name": "stdout",
          "text": [
            "Type: float64, Data: 0          300.0\n",
            "1         6000.0\n",
            "2         2000.0\n",
            "3        10000.0\n",
            "4        10000.0\n",
            "          ...   \n",
            "42670      100.0\n",
            "42671      200.0\n",
            "42672       50.0\n",
            "42673      500.0\n",
            "42674       50.0\n",
            "Name: bought_in_last_month, Length: 42675, dtype: float64\n"
          ]
        }
      ]
    },
    {
      "cell_type": "markdown",
      "source": [
        "## current/discounted_price Feature"
      ],
      "metadata": {
        "id": "vH8uuoOVqBcL"
      }
    },
    {
      "cell_type": "code",
      "source": [
        "df['current/discounted_price']"
      ],
      "metadata": {
        "colab": {
          "base_uri": "https://localhost:8080/",
          "height": 458
        },
        "id": "o8xhxtohc28y",
        "outputId": "beee56eb-829b-426c-fafa-0d79676e28e7"
      },
      "execution_count": 30,
      "outputs": [
        {
          "output_type": "execute_result",
          "data": {
            "text/plain": [
              "0         89.68\n",
              "1          9.99\n",
              "2        314.00\n",
              "3           NaN\n",
              "4           NaN\n",
              "          ...  \n",
              "42670    195.99\n",
              "42671     89.99\n",
              "42672    899.99\n",
              "42673     10.39\n",
              "42674    419.99\n",
              "Name: current/discounted_price, Length: 42675, dtype: object"
            ],
            "text/html": [
              "<div>\n",
              "<style scoped>\n",
              "    .dataframe tbody tr th:only-of-type {\n",
              "        vertical-align: middle;\n",
              "    }\n",
              "\n",
              "    .dataframe tbody tr th {\n",
              "        vertical-align: top;\n",
              "    }\n",
              "\n",
              "    .dataframe thead th {\n",
              "        text-align: right;\n",
              "    }\n",
              "</style>\n",
              "<table border=\"1\" class=\"dataframe\">\n",
              "  <thead>\n",
              "    <tr style=\"text-align: right;\">\n",
              "      <th></th>\n",
              "      <th>current/discounted_price</th>\n",
              "    </tr>\n",
              "  </thead>\n",
              "  <tbody>\n",
              "    <tr>\n",
              "      <th>0</th>\n",
              "      <td>89.68</td>\n",
              "    </tr>\n",
              "    <tr>\n",
              "      <th>1</th>\n",
              "      <td>9.99</td>\n",
              "    </tr>\n",
              "    <tr>\n",
              "      <th>2</th>\n",
              "      <td>314.00</td>\n",
              "    </tr>\n",
              "    <tr>\n",
              "      <th>3</th>\n",
              "      <td>NaN</td>\n",
              "    </tr>\n",
              "    <tr>\n",
              "      <th>4</th>\n",
              "      <td>NaN</td>\n",
              "    </tr>\n",
              "    <tr>\n",
              "      <th>...</th>\n",
              "      <td>...</td>\n",
              "    </tr>\n",
              "    <tr>\n",
              "      <th>42670</th>\n",
              "      <td>195.99</td>\n",
              "    </tr>\n",
              "    <tr>\n",
              "      <th>42671</th>\n",
              "      <td>89.99</td>\n",
              "    </tr>\n",
              "    <tr>\n",
              "      <th>42672</th>\n",
              "      <td>899.99</td>\n",
              "    </tr>\n",
              "    <tr>\n",
              "      <th>42673</th>\n",
              "      <td>10.39</td>\n",
              "    </tr>\n",
              "    <tr>\n",
              "      <th>42674</th>\n",
              "      <td>419.99</td>\n",
              "    </tr>\n",
              "  </tbody>\n",
              "</table>\n",
              "<p>42675 rows × 1 columns</p>\n",
              "</div><br><label><b>dtype:</b> object</label>"
            ]
          },
          "metadata": {},
          "execution_count": 30
        }
      ]
    },
    {
      "cell_type": "code",
      "source": [
        "df['current/discounted_price'] = (\n",
        "    df['current/discounted_price']\n",
        "    .astype(str)\n",
        "    .str.replace(',', '', regex=False)\n",
        "    .replace('nan', None)\n",
        ")\n",
        "\n",
        "df['current/discounted_price'] = (\n",
        "    pd.to_numeric(df['current/discounted_price'], errors='coerce')\n",
        "    .round(2)\n",
        ")"
      ],
      "metadata": {
        "id": "uv3vKgtVoKhq"
      },
      "execution_count": 31,
      "outputs": []
    },
    {
      "cell_type": "markdown",
      "source": [
        "## listed_price feature"
      ],
      "metadata": {
        "id": "3BL3JmVXrSHs"
      }
    },
    {
      "cell_type": "code",
      "source": [
        "df['listed_price']"
      ],
      "metadata": {
        "colab": {
          "base_uri": "https://localhost:8080/",
          "height": 458
        },
        "id": "hsn9as_xrEIj",
        "outputId": "77495251-0f30-4fd9-d939-4044f6b3eee9"
      },
      "execution_count": 32,
      "outputs": [
        {
          "output_type": "execute_result",
          "data": {
            "text/plain": [
              "0            $159.00\n",
              "1             $15.99\n",
              "2            $349.00\n",
              "3        No Discount\n",
              "4        No Discount\n",
              "            ...     \n",
              "42670    No Discount\n",
              "42671    No Discount\n",
              "42672      $1,099.99\n",
              "42673         $15.98\n",
              "42674        $499.99\n",
              "Name: listed_price, Length: 42675, dtype: object"
            ],
            "text/html": [
              "<div>\n",
              "<style scoped>\n",
              "    .dataframe tbody tr th:only-of-type {\n",
              "        vertical-align: middle;\n",
              "    }\n",
              "\n",
              "    .dataframe tbody tr th {\n",
              "        vertical-align: top;\n",
              "    }\n",
              "\n",
              "    .dataframe thead th {\n",
              "        text-align: right;\n",
              "    }\n",
              "</style>\n",
              "<table border=\"1\" class=\"dataframe\">\n",
              "  <thead>\n",
              "    <tr style=\"text-align: right;\">\n",
              "      <th></th>\n",
              "      <th>listed_price</th>\n",
              "    </tr>\n",
              "  </thead>\n",
              "  <tbody>\n",
              "    <tr>\n",
              "      <th>0</th>\n",
              "      <td>$159.00</td>\n",
              "    </tr>\n",
              "    <tr>\n",
              "      <th>1</th>\n",
              "      <td>$15.99</td>\n",
              "    </tr>\n",
              "    <tr>\n",
              "      <th>2</th>\n",
              "      <td>$349.00</td>\n",
              "    </tr>\n",
              "    <tr>\n",
              "      <th>3</th>\n",
              "      <td>No Discount</td>\n",
              "    </tr>\n",
              "    <tr>\n",
              "      <th>4</th>\n",
              "      <td>No Discount</td>\n",
              "    </tr>\n",
              "    <tr>\n",
              "      <th>...</th>\n",
              "      <td>...</td>\n",
              "    </tr>\n",
              "    <tr>\n",
              "      <th>42670</th>\n",
              "      <td>No Discount</td>\n",
              "    </tr>\n",
              "    <tr>\n",
              "      <th>42671</th>\n",
              "      <td>No Discount</td>\n",
              "    </tr>\n",
              "    <tr>\n",
              "      <th>42672</th>\n",
              "      <td>$1,099.99</td>\n",
              "    </tr>\n",
              "    <tr>\n",
              "      <th>42673</th>\n",
              "      <td>$15.98</td>\n",
              "    </tr>\n",
              "    <tr>\n",
              "      <th>42674</th>\n",
              "      <td>$499.99</td>\n",
              "    </tr>\n",
              "  </tbody>\n",
              "</table>\n",
              "<p>42675 rows × 1 columns</p>\n",
              "</div><br><label><b>dtype:</b> object</label>"
            ]
          },
          "metadata": {},
          "execution_count": 32
        }
      ]
    },
    {
      "cell_type": "markdown",
      "source": [
        "In this column, currency symbols (‘$’) and commas (‘,’) should be removed to standardize the numeric values. Additionally, entries labeled as ‘No Discount’ will be replaced with 0, allowing the column to be fully converted into numeric format for analysis."
      ],
      "metadata": {
        "id": "TQgxmdRmr6fH"
      }
    },
    {
      "cell_type": "code",
      "source": [
        "df['listed_price'] = (\n",
        "    df['listed_price']\n",
        "    .astype(str)\n",
        "    .str.replace('$', '', regex=False)\n",
        "    .str.replace(',', '', regex=False)\n",
        "    .replace('No Discount', '0')\n",
        "    .astype(float)\n",
        ")\n",
        "print(f\"Type: {df['listed_price'].dtype}, Data: {df['listed_price']}\")"
      ],
      "metadata": {
        "colab": {
          "base_uri": "https://localhost:8080/"
        },
        "id": "B8rSbkFWqGbu",
        "outputId": "98c411bc-1456-47e6-cdea-c2fca218b744"
      },
      "execution_count": 33,
      "outputs": [
        {
          "output_type": "stream",
          "name": "stdout",
          "text": [
            "Type: float64, Data: 0         159.00\n",
            "1          15.99\n",
            "2         349.00\n",
            "3           0.00\n",
            "4           0.00\n",
            "          ...   \n",
            "42670       0.00\n",
            "42671       0.00\n",
            "42672    1099.99\n",
            "42673      15.98\n",
            "42674     499.99\n",
            "Name: listed_price, Length: 42675, dtype: float64\n"
          ]
        }
      ]
    },
    {
      "cell_type": "markdown",
      "source": [
        "## buy_box_availability Feature"
      ],
      "metadata": {
        "id": "CTA7jIcIMQoX"
      }
    },
    {
      "cell_type": "code",
      "source": [
        "df['buy_box_availability'].value_counts()"
      ],
      "metadata": {
        "colab": {
          "base_uri": "https://localhost:8080/",
          "height": 146
        },
        "id": "-mw_CZf2MV39",
        "outputId": "590b41e1-56fc-49ec-a03c-924ad4cbb56e"
      },
      "execution_count": 34,
      "outputs": [
        {
          "output_type": "execute_result",
          "data": {
            "text/plain": [
              "buy_box_availability\n",
              "Add to cart    28022\n",
              "Name: count, dtype: int64"
            ],
            "text/html": [
              "<div>\n",
              "<style scoped>\n",
              "    .dataframe tbody tr th:only-of-type {\n",
              "        vertical-align: middle;\n",
              "    }\n",
              "\n",
              "    .dataframe tbody tr th {\n",
              "        vertical-align: top;\n",
              "    }\n",
              "\n",
              "    .dataframe thead th {\n",
              "        text-align: right;\n",
              "    }\n",
              "</style>\n",
              "<table border=\"1\" class=\"dataframe\">\n",
              "  <thead>\n",
              "    <tr style=\"text-align: right;\">\n",
              "      <th></th>\n",
              "      <th>count</th>\n",
              "    </tr>\n",
              "    <tr>\n",
              "      <th>buy_box_availability</th>\n",
              "      <th></th>\n",
              "    </tr>\n",
              "  </thead>\n",
              "  <tbody>\n",
              "    <tr>\n",
              "      <th>Add to cart</th>\n",
              "      <td>28022</td>\n",
              "    </tr>\n",
              "  </tbody>\n",
              "</table>\n",
              "</div><br><label><b>dtype:</b> int64</label>"
            ]
          },
          "metadata": {},
          "execution_count": 34
        }
      ]
    },
    {
      "cell_type": "code",
      "source": [
        "df.loc[:, 'buy_box_availability'] = df['buy_box_availability'].map(lambda x: 0 if pd.isna(x) else 1)"
      ],
      "metadata": {
        "id": "oO8mWaQbMh9s"
      },
      "execution_count": 35,
      "outputs": []
    },
    {
      "cell_type": "code",
      "source": [
        "df['buy_box_availability'].value_counts()"
      ],
      "metadata": {
        "colab": {
          "base_uri": "https://localhost:8080/",
          "height": 178
        },
        "id": "HyFH0PVVM8MW",
        "outputId": "b2a9609e-f5d1-47d7-98cb-dd477dd5320d"
      },
      "execution_count": 36,
      "outputs": [
        {
          "output_type": "execute_result",
          "data": {
            "text/plain": [
              "buy_box_availability\n",
              "1    28022\n",
              "0    14653\n",
              "Name: count, dtype: int64"
            ],
            "text/html": [
              "<div>\n",
              "<style scoped>\n",
              "    .dataframe tbody tr th:only-of-type {\n",
              "        vertical-align: middle;\n",
              "    }\n",
              "\n",
              "    .dataframe tbody tr th {\n",
              "        vertical-align: top;\n",
              "    }\n",
              "\n",
              "    .dataframe thead th {\n",
              "        text-align: right;\n",
              "    }\n",
              "</style>\n",
              "<table border=\"1\" class=\"dataframe\">\n",
              "  <thead>\n",
              "    <tr style=\"text-align: right;\">\n",
              "      <th></th>\n",
              "      <th>count</th>\n",
              "    </tr>\n",
              "    <tr>\n",
              "      <th>buy_box_availability</th>\n",
              "      <th></th>\n",
              "    </tr>\n",
              "  </thead>\n",
              "  <tbody>\n",
              "    <tr>\n",
              "      <th>1</th>\n",
              "      <td>28022</td>\n",
              "    </tr>\n",
              "    <tr>\n",
              "      <th>0</th>\n",
              "      <td>14653</td>\n",
              "    </tr>\n",
              "  </tbody>\n",
              "</table>\n",
              "</div><br><label><b>dtype:</b> int64</label>"
            ]
          },
          "metadata": {},
          "execution_count": 36
        }
      ]
    },
    {
      "cell_type": "markdown",
      "source": [
        "## collected_at feature"
      ],
      "metadata": {
        "id": "iLMSYDqRXnnX"
      }
    },
    {
      "cell_type": "code",
      "source": [
        "df['collected_at'] = pd.to_datetime(df['collected_at'])"
      ],
      "metadata": {
        "id": "hfTRa2XfUxnI"
      },
      "execution_count": 37,
      "outputs": []
    },
    {
      "cell_type": "markdown",
      "source": [
        "#Handling with data skewness and outliers"
      ],
      "metadata": {
        "id": "A0Z6-MSkdcKS"
      }
    },
    {
      "cell_type": "code",
      "source": [
        "df.isna().sum()"
      ],
      "metadata": {
        "colab": {
          "base_uri": "https://localhost:8080/",
          "height": 585
        },
        "id": "BPMs5gxhdlun",
        "outputId": "d4af5e5e-5ef0-4e0e-fb37-6882dee33821"
      },
      "execution_count": 38,
      "outputs": [
        {
          "output_type": "execute_result",
          "data": {
            "text/plain": [
              "rating                       1024\n",
              "number_of_reviews            1024\n",
              "bought_in_last_month        10511\n",
              "current/discounted_price    11749\n",
              "price_on_variant            22604\n",
              "listed_price                    0\n",
              "is_best_seller                  0\n",
              "is_sponsored                    0\n",
              "is_couponed                     0\n",
              "buy_box_availability            0\n",
              "delivery_details            11720\n",
              "sustainability_badges       39267\n",
              "image_url                       0\n",
              "product_url                  2069\n",
              "collected_at                    0\n",
              "category                        0\n",
              "dtype: int64"
            ],
            "text/html": [
              "<div>\n",
              "<style scoped>\n",
              "    .dataframe tbody tr th:only-of-type {\n",
              "        vertical-align: middle;\n",
              "    }\n",
              "\n",
              "    .dataframe tbody tr th {\n",
              "        vertical-align: top;\n",
              "    }\n",
              "\n",
              "    .dataframe thead th {\n",
              "        text-align: right;\n",
              "    }\n",
              "</style>\n",
              "<table border=\"1\" class=\"dataframe\">\n",
              "  <thead>\n",
              "    <tr style=\"text-align: right;\">\n",
              "      <th></th>\n",
              "      <th>0</th>\n",
              "    </tr>\n",
              "  </thead>\n",
              "  <tbody>\n",
              "    <tr>\n",
              "      <th>rating</th>\n",
              "      <td>1024</td>\n",
              "    </tr>\n",
              "    <tr>\n",
              "      <th>number_of_reviews</th>\n",
              "      <td>1024</td>\n",
              "    </tr>\n",
              "    <tr>\n",
              "      <th>bought_in_last_month</th>\n",
              "      <td>10511</td>\n",
              "    </tr>\n",
              "    <tr>\n",
              "      <th>current/discounted_price</th>\n",
              "      <td>11749</td>\n",
              "    </tr>\n",
              "    <tr>\n",
              "      <th>price_on_variant</th>\n",
              "      <td>22604</td>\n",
              "    </tr>\n",
              "    <tr>\n",
              "      <th>listed_price</th>\n",
              "      <td>0</td>\n",
              "    </tr>\n",
              "    <tr>\n",
              "      <th>is_best_seller</th>\n",
              "      <td>0</td>\n",
              "    </tr>\n",
              "    <tr>\n",
              "      <th>is_sponsored</th>\n",
              "      <td>0</td>\n",
              "    </tr>\n",
              "    <tr>\n",
              "      <th>is_couponed</th>\n",
              "      <td>0</td>\n",
              "    </tr>\n",
              "    <tr>\n",
              "      <th>buy_box_availability</th>\n",
              "      <td>0</td>\n",
              "    </tr>\n",
              "    <tr>\n",
              "      <th>delivery_details</th>\n",
              "      <td>11720</td>\n",
              "    </tr>\n",
              "    <tr>\n",
              "      <th>sustainability_badges</th>\n",
              "      <td>39267</td>\n",
              "    </tr>\n",
              "    <tr>\n",
              "      <th>image_url</th>\n",
              "      <td>0</td>\n",
              "    </tr>\n",
              "    <tr>\n",
              "      <th>product_url</th>\n",
              "      <td>2069</td>\n",
              "    </tr>\n",
              "    <tr>\n",
              "      <th>collected_at</th>\n",
              "      <td>0</td>\n",
              "    </tr>\n",
              "    <tr>\n",
              "      <th>category</th>\n",
              "      <td>0</td>\n",
              "    </tr>\n",
              "  </tbody>\n",
              "</table>\n",
              "</div><br><label><b>dtype:</b> int64</label>"
            ]
          },
          "metadata": {},
          "execution_count": 38
        }
      ]
    },
    {
      "cell_type": "code",
      "source": [
        "import seaborn as sns\n",
        "\n",
        "corr = df.select_dtypes(include=np.number).corr()\n",
        "\n",
        "plt.figure(figsize=(8,6))\n",
        "sns.heatmap(corr, annot=True, cmap='coolwarm', vmin=-1, vmax=1)\n",
        "plt.title('Correlation Between Numeric Columns')\n",
        "plt.show()"
      ],
      "metadata": {
        "colab": {
          "base_uri": "https://localhost:8080/",
          "height": 703
        },
        "id": "eJqWsVXddnyf",
        "outputId": "120ef5f6-7479-4622-a0bd-ce902cfe5f0f"
      },
      "execution_count": 39,
      "outputs": [
        {
          "output_type": "display_data",
          "data": {
            "text/plain": [
              "<Figure size 800x600 with 2 Axes>"
            ],
            "image/png": "[encoded data removed]"
          },
          "metadata": {}
        }
      ]
    },
    {
      "cell_type": "code",
      "source": [
        "def diagnose_outliers_iqr(column, df, x = 1.5):\n",
        "    Q1 = df[column].quantile(0.25)\n",
        "    Q3 = df[column].quantile(0.75)\n",
        "    IQR = Q3 - Q1\n",
        "    lower_bound = Q1 - x * IQR\n",
        "    upper_bound = Q3 + x * IQR\n",
        "    outliers = df[(df[column] < lower_bound) | (df[column] > upper_bound)]\n",
        "    print(f\"--- IQR Diagnosis for {column} ---\")\n",
        "    print(f\"Q1: {Q1}, Q3: {Q3}, IQR: {IQR}\")\n",
        "    print(f\"Lower Bound: {lower_bound}, Upper Bound: {upper_bound}\")\n",
        "    print(f\"Number of outliers detected: {len(outliers)}\")\n",
        "\n",
        "    print(f\"95th_percentile: {df[column].quantile(0.95)}\")\n",
        "    print(f\"99th_percentile: {df[column].quantile(0.99)}\")\n",
        "    return"
      ],
      "metadata": {
        "id": "GHbPgGG5lYiu"
      },
      "execution_count": 40,
      "outputs": []
    },
    {
      "cell_type": "code",
      "source": [
        "def remove_outliers_iqr(column, df, x = 1.5):\n",
        "    Q1 = df[column].quantile(0.25)\n",
        "    Q3 = df[column].quantile(0.75)\n",
        "    IQR = Q3 - Q1\n",
        "    lower_bound = Q1 - x * IQR\n",
        "    upper_bound = Q3 + x * IQR\n",
        "\n",
        "    df_clean = df[(df[column].isna()) |\n",
        "              ((df[column] >= lower_bound) & (df[column] <= upper_bound))]\n",
        "\n",
        "    print(f\"--- IQR Outlier Removal for {column} ---\")\n",
        "    print(f\"Rows before: {len(df)}, Rows after: {len(df_clean)}\")\n",
        "\n",
        "    return df_clean"
      ],
      "metadata": {
        "id": "pytbFoN4mUS_"
      },
      "execution_count": 41,
      "outputs": []
    },
    {
      "cell_type": "markdown",
      "source": [
        "## rating Feature"
      ],
      "metadata": {
        "id": "ePp5aCnfgusl"
      }
    },
    {
      "cell_type": "code",
      "source": [
        "def plot_hist(column, df, title=\"\", xlabel=\"\", ylabel=\"\", bins=10):\n",
        "    plt.hist(df[column], bins=bins)\n",
        "\n",
        "    plt.xlabel(xlabel)\n",
        "    plt.ylabel(ylabel)\n",
        "    plt.show()\n",
        "\n",
        "plot_hist(\"rating\", df, xlabel=\"rating\", ylabel=\"Count\")"
      ],
      "metadata": {
        "colab": {
          "base_uri": "https://localhost:8080/",
          "height": 449
        },
        "id": "VKjQ7dfAedeQ",
        "outputId": "7ec0d5a3-ac24-4a3e-c580-cbc395bdaff0"
      },
      "execution_count": 42,
      "outputs": [
        {
          "output_type": "display_data",
          "data": {
            "text/plain": [
              "<Figure size 640x480 with 1 Axes>"
            ],
            "image/png": "[encoded data removed]"
          },
          "metadata": {}
        }
      ]
    },
    {
      "cell_type": "markdown",
      "source": [
        "In the histogram, we observe negative skewness, indicating that the data are skewed to the left. To address this, we could consider applying transformations such as square, cube, or yeo-johnson method, or use techniques like binning to normalize the distribution. Alternatively, robust statistical methods that are less sensitive to skewness could be employed. And also we can see that there are some outliers there, let's go deeper .."
      ],
      "metadata": {
        "id": "DpJwKTf9hVV3"
      }
    },
    {
      "cell_type": "code",
      "source": [
        "def boxplot_vizual(column, df):\n",
        "    plt.figure(figsize=(10, 2))\n",
        "    sns.boxplot(x=df[column], orient='h')\n",
        "    plt.title(f\"Boxplot of {column}\")\n",
        "    plt.show()\n",
        "\n",
        "boxplot_vizual(\"rating\", df)"
      ],
      "metadata": {
        "colab": {
          "base_uri": "https://localhost:8080/",
          "height": 256
        },
        "id": "Xtl4g66lkawt",
        "outputId": "1f1ee86c-a73a-47f4-f996-ec07a7bd897f"
      },
      "execution_count": 43,
      "outputs": [
        {
          "output_type": "display_data",
          "data": {
            "text/plain": [
              "<Figure size 1000x200 with 1 Axes>"
            ],
            "image/png": "[encoded data removed]"
          },
          "metadata": {}
        }
      ]
    },
    {
      "cell_type": "code",
      "source": [
        "diagnose_outliers_iqr('rating', df)"
      ],
      "metadata": {
        "colab": {
          "base_uri": "https://localhost:8080/"
        },
        "id": "_kIIwKJLmb8F",
        "outputId": "76d64287-3fb4-47f9-d248-43d8f5b59bd9"
      },
      "execution_count": 44,
      "outputs": [
        {
          "output_type": "stream",
          "name": "stdout",
          "text": [
            "--- IQR Diagnosis for rating ---\n",
            "Q1: 4.199999809265137, Q3: 4.699999809265137, IQR: 0.5\n",
            "Lower Bound: 3.4499998092651367, Upper Bound: 5.449999809265137\n",
            "Number of outliers detected: 924\n",
            "95th_percentile: 4.800000190734863\n",
            "99th_percentile: 5.0\n"
          ]
        }
      ]
    },
    {
      "cell_type": "code",
      "source": [
        "outlier_count_rating = df[df['rating'] < 3].shape[0]\n",
        "print(f\"If lower bound is 3, the outlier count will be {outlier_count_rating}\")"
      ],
      "metadata": {
        "colab": {
          "base_uri": "https://localhost:8080/"
        },
        "id": "qDvS9DHNm5oV",
        "outputId": "12805d30-74bf-4256-a05d-e24aef283436"
      },
      "execution_count": 45,
      "outputs": [
        {
          "output_type": "stream",
          "name": "stdout",
          "text": [
            "If lower bound is 3, the outlier count will be 189\n"
          ]
        }
      ]
    },
    {
      "cell_type": "code",
      "source": [
        "df = df[(df['rating'].isna()) | (df['rating'] > 3)].copy()"
      ],
      "metadata": {
        "id": "LGG13My_nl8a"
      },
      "execution_count": 46,
      "outputs": []
    },
    {
      "cell_type": "code",
      "source": [
        "from sklearn.preprocessing import PowerTransformer\n",
        "\n",
        "pt = PowerTransformer(method='yeo-johnson')\n",
        "df.loc[:, 'rating'] = pt.fit_transform(df[['rating']])"
      ],
      "metadata": {
        "id": "IH91jnZRhwLt"
      },
      "execution_count": 47,
      "outputs": []
    },
    {
      "cell_type": "code",
      "source": [
        "plt.hist(df['rating'], bins=10)\n",
        "plt.title(\"Yeo-Johnson Transformed Rating\")\n",
        "plt.xlabel(\"Transformed Rating\")\n",
        "plt.ylabel(\"Count\")\n",
        "plt.show()"
      ],
      "metadata": {
        "colab": {
          "base_uri": "https://localhost:8080/",
          "height": 472
        },
        "id": "nbLGjSnGnzFt",
        "outputId": "75a9a73a-c492-473e-8009-4379ec3eb449"
      },
      "execution_count": 48,
      "outputs": [
        {
          "output_type": "display_data",
          "data": {
            "text/plain": [
              "<Figure size 640x480 with 1 Axes>"
            ],
            "image/png": "[encoded data removed]"
          },
          "metadata": {}
        }
      ]
    },
    {
      "cell_type": "markdown",
      "source": [
        "## bought_in_last_month Feature"
      ],
      "metadata": {
        "id": "lcAXLqBjw5jE"
      }
    },
    {
      "cell_type": "code",
      "source": [
        "df['bought_in_last_month']"
      ],
      "metadata": {
        "colab": {
          "base_uri": "https://localhost:8080/",
          "height": 458
        },
        "id": "79DcTpvIwC-z",
        "outputId": "22f7292c-763b-43a5-cedd-b1d0a0521344"
      },
      "execution_count": 49,
      "outputs": [
        {
          "output_type": "execute_result",
          "data": {
            "text/plain": [
              "0          300.0\n",
              "1         6000.0\n",
              "2         2000.0\n",
              "3        10000.0\n",
              "4        10000.0\n",
              "          ...   \n",
              "42670      100.0\n",
              "42671      200.0\n",
              "42672       50.0\n",
              "42673      500.0\n",
              "42674       50.0\n",
              "Name: bought_in_last_month, Length: 42338, dtype: float64"
            ],
            "text/html": [
              "<div>\n",
              "<style scoped>\n",
              "    .dataframe tbody tr th:only-of-type {\n",
              "        vertical-align: middle;\n",
              "    }\n",
              "\n",
              "    .dataframe tbody tr th {\n",
              "        vertical-align: top;\n",
              "    }\n",
              "\n",
              "    .dataframe thead th {\n",
              "        text-align: right;\n",
              "    }\n",
              "</style>\n",
              "<table border=\"1\" class=\"dataframe\">\n",
              "  <thead>\n",
              "    <tr style=\"text-align: right;\">\n",
              "      <th></th>\n",
              "      <th>bought_in_last_month</th>\n",
              "    </tr>\n",
              "  </thead>\n",
              "  <tbody>\n",
              "    <tr>\n",
              "      <th>0</th>\n",
              "      <td>300.0</td>\n",
              "    </tr>\n",
              "    <tr>\n",
              "      <th>1</th>\n",
              "      <td>6000.0</td>\n",
              "    </tr>\n",
              "    <tr>\n",
              "      <th>2</th>\n",
              "      <td>2000.0</td>\n",
              "    </tr>\n",
              "    <tr>\n",
              "      <th>3</th>\n",
              "      <td>10000.0</td>\n",
              "    </tr>\n",
              "    <tr>\n",
              "      <th>4</th>\n",
              "      <td>10000.0</td>\n",
              "    </tr>\n",
              "    <tr>\n",
              "      <th>...</th>\n",
              "      <td>...</td>\n",
              "    </tr>\n",
              "    <tr>\n",
              "      <th>42670</th>\n",
              "      <td>100.0</td>\n",
              "    </tr>\n",
              "    <tr>\n",
              "      <th>42671</th>\n",
              "      <td>200.0</td>\n",
              "    </tr>\n",
              "    <tr>\n",
              "      <th>42672</th>\n",
              "      <td>50.0</td>\n",
              "    </tr>\n",
              "    <tr>\n",
              "      <th>42673</th>\n",
              "      <td>500.0</td>\n",
              "    </tr>\n",
              "    <tr>\n",
              "      <th>42674</th>\n",
              "      <td>50.0</td>\n",
              "    </tr>\n",
              "  </tbody>\n",
              "</table>\n",
              "<p>42338 rows × 1 columns</p>\n",
              "</div><br><label><b>dtype:</b> float64</label>"
            ]
          },
          "metadata": {},
          "execution_count": 49
        }
      ]
    },
    {
      "cell_type": "code",
      "source": [
        "plot_hist(\"bought_in_last_month\", df, xlabel=\"Bought\", ylabel=\"Count\")"
      ],
      "metadata": {
        "colab": {
          "base_uri": "https://localhost:8080/",
          "height": 449
        },
        "id": "sfWrYE-qw9Bz",
        "outputId": "d1223003-f165-4901-8700-a9df71a9a17b"
      },
      "execution_count": 50,
      "outputs": [
        {
          "output_type": "display_data",
          "data": {
            "text/plain": [
              "<Figure size 640x480 with 1 Axes>"
            ],
            "image/png": "[encoded data removed]"
          },
          "metadata": {}
        }
      ]
    },
    {
      "cell_type": "code",
      "source": [
        "boxplot_vizual(\"bought_in_last_month\", df)"
      ],
      "metadata": {
        "colab": {
          "base_uri": "https://localhost:8080/",
          "height": 256
        },
        "id": "iL3Q1TLvyBK8",
        "outputId": "dc0c06e3-50df-4ed2-d690-01fe70130abe"
      },
      "execution_count": 51,
      "outputs": [
        {
          "output_type": "display_data",
          "data": {
            "text/plain": [
              "<Figure size 1000x200 with 1 Axes>"
            ],
            "image/png": "[encoded data removed]"
          },
          "metadata": {}
        }
      ]
    },
    {
      "cell_type": "code",
      "source": [
        "diagnose_outliers_iqr(\"bought_in_last_month\", df, x=1.5)"
      ],
      "metadata": {
        "colab": {
          "base_uri": "https://localhost:8080/"
        },
        "id": "VM9gp6s2yGRs",
        "outputId": "2ff94995-f305-4e3d-e80a-62cc530c5707"
      },
      "execution_count": 52,
      "outputs": [
        {
          "output_type": "stream",
          "name": "stdout",
          "text": [
            "--- IQR Diagnosis for bought_in_last_month ---\n",
            "Q1: 100.0, Q3: 400.0, IQR: 300.0\n",
            "Lower Bound: -350.0, Upper Bound: 850.0\n",
            "Number of outliers detected: 4511\n",
            "95th_percentile: 4000.0\n",
            "99th_percentile: 20000.0\n"
          ]
        }
      ]
    },
    {
      "cell_type": "code",
      "source": [
        "print(f\"If upper bound is 20k, the outlier count will be {df[df['bought_in_last_month'] > 20_000].shape[0]}\")"
      ],
      "metadata": {
        "colab": {
          "base_uri": "https://localhost:8080/"
        },
        "id": "5G9uE2LXowj4",
        "outputId": "752f19fb-7aee-4727-ef87-46f2a0dcb9d8"
      },
      "execution_count": 53,
      "outputs": [
        {
          "output_type": "stream",
          "name": "stdout",
          "text": [
            "If upper bound is 20k, the outlier count will be 162\n"
          ]
        }
      ]
    },
    {
      "cell_type": "code",
      "source": [
        "print(f\"If upper bound is 4k, the outlier count will be {df[df['bought_in_last_month'] > 4_000].shape[0]}\")"
      ],
      "metadata": {
        "colab": {
          "base_uri": "https://localhost:8080/"
        },
        "id": "8zxdHkBqpYmE",
        "outputId": "80ff5361-c611-4137-b15f-83f4038feb66"
      },
      "execution_count": 54,
      "outputs": [
        {
          "output_type": "stream",
          "name": "stdout",
          "text": [
            "If upper bound is 4k, the outlier count will be 1493\n"
          ]
        }
      ]
    },
    {
      "cell_type": "code",
      "source": [
        "df = df[(df['bought_in_last_month'].isna()) | (df['bought_in_last_month'] <= 20_000)]"
      ],
      "metadata": {
        "id": "pvZSBL15p9D1"
      },
      "execution_count": 55,
      "outputs": []
    },
    {
      "cell_type": "code",
      "source": [
        "df.loc[:, 'bought_in_last_month'] = df['bought_in_last_month'].clip(lower=None, upper=4_000)"
      ],
      "metadata": {
        "id": "5GrLli2Ty2Ik"
      },
      "execution_count": 56,
      "outputs": []
    },
    {
      "cell_type": "code",
      "source": [
        "plot_hist(\"bought_in_last_month\", df, xlabel=\"Bought\", ylabel=\"Count\")"
      ],
      "metadata": {
        "colab": {
          "base_uri": "https://localhost:8080/",
          "height": 449
        },
        "id": "Grm0RMJr1C8F",
        "outputId": "17a29906-e74e-471d-dea3-d4ebe18713cd"
      },
      "execution_count": 57,
      "outputs": [
        {
          "output_type": "display_data",
          "data": {
            "text/plain": [
              "<Figure size 640x480 with 1 Axes>"
            ],
            "image/png": "[encoded data removed]"
          },
          "metadata": {}
        }
      ]
    },
    {
      "cell_type": "markdown",
      "source": [
        "The data exhibit right skewness, meaning most values are clustered at the lower end while a few very large values stretch the distribution to the right. To address this imbalance, a logarithmic transformation can be applied, which compresses higher values and helps normalize the distribution."
      ],
      "metadata": {
        "id": "csPXEE8v1Yl7"
      }
    },
    {
      "cell_type": "code",
      "source": [
        "df.loc[:, 'bought_in_last_month'] = np.log(df['bought_in_last_month'])"
      ],
      "metadata": {
        "id": "mhmGsUQn4JlG"
      },
      "execution_count": 58,
      "outputs": []
    },
    {
      "cell_type": "code",
      "source": [
        "plot_hist(\"bought_in_last_month\", df, xlabel=\"Bought\", ylabel=\"Count\")"
      ],
      "metadata": {
        "colab": {
          "base_uri": "https://localhost:8080/",
          "height": 449
        },
        "id": "GrlAqO7b1uhV",
        "outputId": "cbb9e6b4-adac-4154-c9b1-e0514089a4a1"
      },
      "execution_count": 59,
      "outputs": [
        {
          "output_type": "display_data",
          "data": {
            "text/plain": [
              "<Figure size 640x480 with 1 Axes>"
            ],
            "image/png": "[encoded data removed]"
          },
          "metadata": {}
        }
      ]
    },
    {
      "cell_type": "markdown",
      "source": [
        "## number_of_reviews Feature"
      ],
      "metadata": {
        "id": "8oiyIBO_eMSe"
      }
    },
    {
      "cell_type": "code",
      "source": [
        "plot_hist('number_of_reviews', df)"
      ],
      "metadata": {
        "colab": {
          "base_uri": "https://localhost:8080/",
          "height": 430
        },
        "id": "eJkC2JP1eXdP",
        "outputId": "9cf2fc93-98da-4d90-fc67-61273263fe3c"
      },
      "execution_count": 60,
      "outputs": [
        {
          "output_type": "display_data",
          "data": {
            "text/plain": [
              "<Figure size 640x480 with 1 Axes>"
            ],
            "image/png": "[encoded data removed]"
          },
          "metadata": {}
        }
      ]
    },
    {
      "cell_type": "code",
      "source": [
        "boxplot_vizual(\"number_of_reviews\", df)"
      ],
      "metadata": {
        "colab": {
          "base_uri": "https://localhost:8080/",
          "height": 256
        },
        "id": "HVbhPa9_fNER",
        "outputId": "b4d3d0ae-3b15-4d82-a538-d314b27522e7"
      },
      "execution_count": 61,
      "outputs": [
        {
          "output_type": "display_data",
          "data": {
            "text/plain": [
              "<Figure size 1000x200 with 1 Axes>"
            ],
            "image/png": "[encoded data removed]"
          },
          "metadata": {}
        }
      ]
    },
    {
      "cell_type": "code",
      "source": [
        "diagnose_outliers_iqr('number_of_reviews', df)"
      ],
      "metadata": {
        "colab": {
          "base_uri": "https://localhost:8080/"
        },
        "id": "xifnB3i7rIll",
        "outputId": "ee33f16d-598a-4218-ef26-f2027eb5a215"
      },
      "execution_count": 62,
      "outputs": [
        {
          "output_type": "stream",
          "name": "stdout",
          "text": [
            "--- IQR Diagnosis for number_of_reviews ---\n",
            "Q1: 84, Q3: 1886, IQR: 1802\n",
            "Lower Bound: -2619.0, Upper Bound: 4589.0\n",
            "Number of outliers detected: 5702\n",
            "95th_percentile: 12147\n",
            "99th_percentile: 36499\n"
          ]
        }
      ]
    },
    {
      "cell_type": "code",
      "source": [
        "upper = df['number_of_reviews'].quantile(0.99)\n",
        "print(f\"Outlier count when upper bound is {upper:,.0f}: {(df['number_of_reviews'] > upper).sum()}\")"
      ],
      "metadata": {
        "colab": {
          "base_uri": "https://localhost:8080/"
        },
        "id": "lJOMrNkBeqE-",
        "outputId": "ead26053-b515-41c1-f624-9b8718600a18"
      },
      "execution_count": 63,
      "outputs": [
        {
          "output_type": "stream",
          "name": "stdout",
          "text": [
            "Outlier count when upper bound is 36,499: 301\n"
          ]
        }
      ]
    },
    {
      "cell_type": "code",
      "source": [
        "df = df[(df['number_of_reviews'].isna()) | (df['number_of_reviews'] < upper)].copy()"
      ],
      "metadata": {
        "id": "X4VSjMsOsH8V"
      },
      "execution_count": 64,
      "outputs": []
    },
    {
      "cell_type": "code",
      "source": [
        "df.loc[:, 'number_of_reviews'] = df['number_of_reviews'].clip(lower=None, upper=12147)"
      ],
      "metadata": {
        "id": "uXC2GEUSgaxg"
      },
      "execution_count": 65,
      "outputs": []
    },
    {
      "cell_type": "code",
      "source": [
        "plot_hist('number_of_reviews', df)"
      ],
      "metadata": {
        "colab": {
          "base_uri": "https://localhost:8080/",
          "height": 430
        },
        "id": "LslpQENSg6c-",
        "outputId": "09aad2e3-1850-453c-e968-7e837aea86fd"
      },
      "execution_count": 66,
      "outputs": [
        {
          "output_type": "display_data",
          "data": {
            "text/plain": [
              "<Figure size 640x480 with 1 Axes>"
            ],
            "image/png": "[encoded data removed]"
          },
          "metadata": {}
        }
      ]
    },
    {
      "cell_type": "code",
      "source": [
        "df['number_of_reviews'] = np.log(df['number_of_reviews'])"
      ],
      "metadata": {
        "id": "P_0efzSvhRht"
      },
      "execution_count": 67,
      "outputs": []
    },
    {
      "cell_type": "code",
      "source": [
        "plot_hist('number_of_reviews', df)"
      ],
      "metadata": {
        "colab": {
          "base_uri": "https://localhost:8080/",
          "height": 430
        },
        "id": "aScmLZJehfeV",
        "outputId": "83b867ca-ec69-458c-fd60-14dab6b39017"
      },
      "execution_count": 68,
      "outputs": [
        {
          "output_type": "display_data",
          "data": {
            "text/plain": [
              "<Figure size 640x480 with 1 Axes>"
            ],
            "image/png": "[encoded data removed]"
          },
          "metadata": {}
        }
      ]
    },
    {
      "cell_type": "markdown",
      "source": [
        "## current/discounted_price Feature"
      ],
      "metadata": {
        "id": "lu9V8MrUhwzJ"
      }
    },
    {
      "cell_type": "code",
      "source": [
        "plot_hist(\"current/discounted_price\", df)"
      ],
      "metadata": {
        "colab": {
          "base_uri": "https://localhost:8080/",
          "height": 430
        },
        "id": "vEMP5JJ2h_cN",
        "outputId": "674a591d-f2cd-4e61-b5ea-e4643de8ba46"
      },
      "execution_count": 69,
      "outputs": [
        {
          "output_type": "display_data",
          "data": {
            "text/plain": [
              "<Figure size 640x480 with 1 Axes>"
            ],
            "image/png": "[encoded data removed]"
          },
          "metadata": {}
        }
      ]
    },
    {
      "cell_type": "code",
      "source": [
        "boxplot_vizual(\"current/discounted_price\", df)"
      ],
      "metadata": {
        "colab": {
          "base_uri": "https://localhost:8080/",
          "height": 256
        },
        "id": "t9P1KtIViFpE",
        "outputId": "a2110295-743b-4f18-ea7a-eeb1ed986019"
      },
      "execution_count": 70,
      "outputs": [
        {
          "output_type": "display_data",
          "data": {
            "text/plain": [
              "<Figure size 1000x200 with 1 Axes>"
            ],
            "image/png": "[encoded data removed]"
          },
          "metadata": {}
        }
      ]
    },
    {
      "cell_type": "code",
      "source": [
        "diagnose_outliers_iqr(\"current/discounted_price\", df, x = 1.5)"
      ],
      "metadata": {
        "colab": {
          "base_uri": "https://localhost:8080/"
        },
        "id": "IFgxtzjkiKtk",
        "outputId": "a0732bab-bd2a-4a15-8f63-91097f2f2bd4"
      },
      "execution_count": 71,
      "outputs": [
        {
          "output_type": "stream",
          "name": "stdout",
          "text": [
            "--- IQR Diagnosis for current/discounted_price ---\n",
            "Q1: 27.49, Q3: 193.655, IQR: 166.165\n",
            "Lower Bound: -221.7575, Upper Bound: 442.90250000000003\n",
            "Number of outliers detected: 3470\n",
            "95th_percentile: 849.0\n",
            "99th_percentile: 2259.0\n"
          ]
        }
      ]
    },
    {
      "cell_type": "code",
      "source": [
        "df = df[(df[\"current/discounted_price\"].isna()) | (df[\"current/discounted_price\"] < 2259.0)]"
      ],
      "metadata": {
        "id": "0fN6bSFRjcS1"
      },
      "execution_count": 72,
      "outputs": []
    },
    {
      "cell_type": "code",
      "source": [
        "df.loc[:, 'current/discounted_price'] = df['current/discounted_price'].clip(lower=None, upper=850)"
      ],
      "metadata": {
        "id": "6o35ixjnjqNb"
      },
      "execution_count": 73,
      "outputs": []
    },
    {
      "cell_type": "markdown",
      "source": [
        "## price_on_variant Feature"
      ],
      "metadata": {
        "id": "dbOjMq22x_Op"
      }
    },
    {
      "cell_type": "code",
      "source": [
        "del df['price_on_variant']"
      ],
      "metadata": {
        "id": "D8pEqIzyx9D6"
      },
      "execution_count": 74,
      "outputs": []
    },
    {
      "cell_type": "markdown",
      "source": [
        "## listed_price"
      ],
      "metadata": {
        "id": "R1hACLBJya0i"
      }
    },
    {
      "cell_type": "code",
      "source": [
        "df['listed_price']"
      ],
      "metadata": {
        "colab": {
          "base_uri": "https://localhost:8080/",
          "height": 458
        },
        "id": "aiDyKCJcyXBU",
        "outputId": "dd9cd88e-0e5a-470f-c55d-5f647388b2a2"
      },
      "execution_count": 75,
      "outputs": [
        {
          "output_type": "execute_result",
          "data": {
            "text/plain": [
              "0         159.00\n",
              "1          15.99\n",
              "2         349.00\n",
              "3           0.00\n",
              "4           0.00\n",
              "          ...   \n",
              "42670       0.00\n",
              "42671       0.00\n",
              "42672    1099.99\n",
              "42673      15.98\n",
              "42674     499.99\n",
              "Name: listed_price, Length: 41414, dtype: float64"
            ],
            "text/html": [
              "<div>\n",
              "<style scoped>\n",
              "    .dataframe tbody tr th:only-of-type {\n",
              "        vertical-align: middle;\n",
              "    }\n",
              "\n",
              "    .dataframe tbody tr th {\n",
              "        vertical-align: top;\n",
              "    }\n",
              "\n",
              "    .dataframe thead th {\n",
              "        text-align: right;\n",
              "    }\n",
              "</style>\n",
              "<table border=\"1\" class=\"dataframe\">\n",
              "  <thead>\n",
              "    <tr style=\"text-align: right;\">\n",
              "      <th></th>\n",
              "      <th>listed_price</th>\n",
              "    </tr>\n",
              "  </thead>\n",
              "  <tbody>\n",
              "    <tr>\n",
              "      <th>0</th>\n",
              "      <td>159.00</td>\n",
              "    </tr>\n",
              "    <tr>\n",
              "      <th>1</th>\n",
              "      <td>15.99</td>\n",
              "    </tr>\n",
              "    <tr>\n",
              "      <th>2</th>\n",
              "      <td>349.00</td>\n",
              "    </tr>\n",
              "    <tr>\n",
              "      <th>3</th>\n",
              "      <td>0.00</td>\n",
              "    </tr>\n",
              "    <tr>\n",
              "      <th>4</th>\n",
              "      <td>0.00</td>\n",
              "    </tr>\n",
              "    <tr>\n",
              "      <th>...</th>\n",
              "      <td>...</td>\n",
              "    </tr>\n",
              "    <tr>\n",
              "      <th>42670</th>\n",
              "      <td>0.00</td>\n",
              "    </tr>\n",
              "    <tr>\n",
              "      <th>42671</th>\n",
              "      <td>0.00</td>\n",
              "    </tr>\n",
              "    <tr>\n",
              "      <th>42672</th>\n",
              "      <td>1099.99</td>\n",
              "    </tr>\n",
              "    <tr>\n",
              "      <th>42673</th>\n",
              "      <td>15.98</td>\n",
              "    </tr>\n",
              "    <tr>\n",
              "      <th>42674</th>\n",
              "      <td>499.99</td>\n",
              "    </tr>\n",
              "  </tbody>\n",
              "</table>\n",
              "<p>41414 rows × 1 columns</p>\n",
              "</div><br><label><b>dtype:</b> float64</label>"
            ]
          },
          "metadata": {},
          "execution_count": 75
        }
      ]
    },
    {
      "cell_type": "code",
      "source": [
        "plot_hist('listed_price', df)"
      ],
      "metadata": {
        "colab": {
          "base_uri": "https://localhost:8080/",
          "height": 430
        },
        "id": "PmrEHgZaylIm",
        "outputId": "3a4dc975-84e8-4f91-a20e-b5a3ee4f824e"
      },
      "execution_count": 76,
      "outputs": [
        {
          "output_type": "display_data",
          "data": {
            "text/plain": [
              "<Figure size 640x480 with 1 Axes>"
            ],
            "image/png": "[encoded data removed]"
          },
          "metadata": {}
        }
      ]
    },
    {
      "cell_type": "code",
      "source": [
        "boxplot_vizual('listed_price', df)"
      ],
      "metadata": {
        "colab": {
          "base_uri": "https://localhost:8080/",
          "height": 256
        },
        "id": "bj0Ng8UhypJT",
        "outputId": "d8c1c8b2-ca5f-4fe6-a9c7-0537d4e2a046"
      },
      "execution_count": 77,
      "outputs": [
        {
          "output_type": "display_data",
          "data": {
            "text/plain": [
              "<Figure size 1000x200 with 1 Axes>"
            ],
            "image/png": "[encoded data removed]"
          },
          "metadata": {}
        }
      ]
    },
    {
      "cell_type": "code",
      "source": [
        "diagnose_outliers_iqr('listed_price', df)"
      ],
      "metadata": {
        "colab": {
          "base_uri": "https://localhost:8080/"
        },
        "id": "ZrTW44xEy5J5",
        "outputId": "a28a454e-903d-416a-9b27-b676bf00dd88"
      },
      "execution_count": 78,
      "outputs": [
        {
          "output_type": "stream",
          "name": "stdout",
          "text": [
            "--- IQR Diagnosis for listed_price ---\n",
            "Q1: 0.0, Q3: 23.26, IQR: 23.26\n",
            "Lower Bound: -34.89, Upper Bound: 58.150000000000006\n",
            "Number of outliers detected: 6446\n",
            "95th_percentile: 310.43099999999816\n",
            "99th_percentile: 1299.0\n"
          ]
        }
      ]
    },
    {
      "cell_type": "code",
      "source": [
        "df = df[(df[\"listed_price\"].isna()) | (df[\"listed_price\"] < 500)]"
      ],
      "metadata": {
        "id": "8tzB6huDysUl"
      },
      "execution_count": 79,
      "outputs": []
    },
    {
      "cell_type": "code",
      "source": [
        "df.loc[:, 'listed_price'] = df['listed_price'].clip(lower=None, upper=310)"
      ],
      "metadata": {
        "id": "RcpfrkwA0doa"
      },
      "execution_count": 80,
      "outputs": []
    },
    {
      "cell_type": "code",
      "source": [
        "df.loc[:, 'listed_price'] = np.log1p(df['listed_price'])"
      ],
      "metadata": {
        "id": "vEoB1E5f1AJA"
      },
      "execution_count": 81,
      "outputs": []
    },
    {
      "cell_type": "code",
      "source": [
        "df['listed_price'].min()"
      ],
      "metadata": {
        "colab": {
          "base_uri": "https://localhost:8080/"
        },
        "id": "BV3DNxAzAuVt",
        "outputId": "6c0ce055-67fd-4f5b-89ae-bfd51becfdb0"
      },
      "execution_count": 82,
      "outputs": [
        {
          "output_type": "execute_result",
          "data": {
            "text/plain": [
              "0.0"
            ]
          },
          "metadata": {},
          "execution_count": 82
        }
      ]
    },
    {
      "cell_type": "markdown",
      "source": [
        "#Handling with Missing Data"
      ],
      "metadata": {
        "id": "bb8JqCm5A9d8"
      }
    },
    {
      "cell_type": "code",
      "source": [
        "df.isna().sum()"
      ],
      "metadata": {
        "colab": {
          "base_uri": "https://localhost:8080/",
          "height": 554
        },
        "id": "wmLFa2hjAwK-",
        "outputId": "8f01fa4d-de56-431d-d303-373825b4285f"
      },
      "execution_count": 83,
      "outputs": [
        {
          "output_type": "execute_result",
          "data": {
            "text/plain": [
              "rating                        881\n",
              "number_of_reviews             881\n",
              "bought_in_last_month         9585\n",
              "current/discounted_price    11513\n",
              "listed_price                    0\n",
              "is_best_seller                  0\n",
              "is_sponsored                    0\n",
              "is_couponed                     0\n",
              "buy_box_availability            0\n",
              "delivery_details            11476\n",
              "sustainability_badges       37289\n",
              "image_url                       0\n",
              "product_url                  1922\n",
              "collected_at                    0\n",
              "category                        0\n",
              "dtype: int64"
            ],
            "text/html": [
              "<div>\n",
              "<style scoped>\n",
              "    .dataframe tbody tr th:only-of-type {\n",
              "        vertical-align: middle;\n",
              "    }\n",
              "\n",
              "    .dataframe tbody tr th {\n",
              "        vertical-align: top;\n",
              "    }\n",
              "\n",
              "    .dataframe thead th {\n",
              "        text-align: right;\n",
              "    }\n",
              "</style>\n",
              "<table border=\"1\" class=\"dataframe\">\n",
              "  <thead>\n",
              "    <tr style=\"text-align: right;\">\n",
              "      <th></th>\n",
              "      <th>0</th>\n",
              "    </tr>\n",
              "  </thead>\n",
              "  <tbody>\n",
              "    <tr>\n",
              "      <th>rating</th>\n",
              "      <td>881</td>\n",
              "    </tr>\n",
              "    <tr>\n",
              "      <th>number_of_reviews</th>\n",
              "      <td>881</td>\n",
              "    </tr>\n",
              "    <tr>\n",
              "      <th>bought_in_last_month</th>\n",
              "      <td>9585</td>\n",
              "    </tr>\n",
              "    <tr>\n",
              "      <th>current/discounted_price</th>\n",
              "      <td>11513</td>\n",
              "    </tr>\n",
              "    <tr>\n",
              "      <th>listed_price</th>\n",
              "      <td>0</td>\n",
              "    </tr>\n",
              "    <tr>\n",
              "      <th>is_best_seller</th>\n",
              "      <td>0</td>\n",
              "    </tr>\n",
              "    <tr>\n",
              "      <th>is_sponsored</th>\n",
              "      <td>0</td>\n",
              "    </tr>\n",
              "    <tr>\n",
              "      <th>is_couponed</th>\n",
              "      <td>0</td>\n",
              "    </tr>\n",
              "    <tr>\n",
              "      <th>buy_box_availability</th>\n",
              "      <td>0</td>\n",
              "    </tr>\n",
              "    <tr>\n",
              "      <th>delivery_details</th>\n",
              "      <td>11476</td>\n",
              "    </tr>\n",
              "    <tr>\n",
              "      <th>sustainability_badges</th>\n",
              "      <td>37289</td>\n",
              "    </tr>\n",
              "    <tr>\n",
              "      <th>image_url</th>\n",
              "      <td>0</td>\n",
              "    </tr>\n",
              "    <tr>\n",
              "      <th>product_url</th>\n",
              "      <td>1922</td>\n",
              "    </tr>\n",
              "    <tr>\n",
              "      <th>collected_at</th>\n",
              "      <td>0</td>\n",
              "    </tr>\n",
              "    <tr>\n",
              "      <th>category</th>\n",
              "      <td>0</td>\n",
              "    </tr>\n",
              "  </tbody>\n",
              "</table>\n",
              "</div><br><label><b>dtype:</b> int64</label>"
            ]
          },
          "metadata": {},
          "execution_count": 83
        }
      ]
    },
    {
      "cell_type": "code",
      "source": [
        "df = df.drop(columns=['image_url', 'product_url', 'collected_at', \"delivery_details\", 'sustainability_badges'])"
      ],
      "metadata": {
        "id": "aiarhz3kDWyV"
      },
      "execution_count": 84,
      "outputs": []
    },
    {
      "cell_type": "code",
      "source": [
        "corr = df.select_dtypes(include=np.number).corr()\n",
        "\n",
        "plt.figure(figsize=(8,6))\n",
        "sns.heatmap(corr, annot=True, cmap='coolwarm', vmin=-1, vmax=1)\n",
        "plt.title('Correlation Between Numeric Columns')\n",
        "plt.show()"
      ],
      "metadata": {
        "colab": {
          "base_uri": "https://localhost:8080/",
          "height": 703
        },
        "id": "hKq7v2jMBCc7",
        "outputId": "89e4baf8-c53f-4bf2-ab51-6502d03dc3c6"
      },
      "execution_count": 85,
      "outputs": [
        {
          "output_type": "display_data",
          "data": {
            "text/plain": [
              "<Figure size 800x600 with 2 Axes>"
            ],
            "image/png": "[encoded data removed]"
          },
          "metadata": {}
        }
      ]
    },
    {
      "cell_type": "markdown",
      "source": [
        "## Rating and number_of_reviews Features"
      ],
      "metadata": {
        "id": "FMVEBtqOFuOF"
      }
    },
    {
      "cell_type": "code",
      "source": [
        "df[df['rating'].isna()]['number_of_reviews'].value_counts()"
      ],
      "metadata": {
        "colab": {
          "base_uri": "https://localhost:8080/",
          "height": 115
        },
        "id": "rIDb4l5sDFvF",
        "outputId": "e961eb32-50f0-4a36-e4a7-299f8b48a850"
      },
      "execution_count": 86,
      "outputs": [
        {
          "output_type": "execute_result",
          "data": {
            "text/plain": [
              "Series([], Name: count, dtype: Int64)"
            ],
            "text/html": [
              "<div>\n",
              "<style scoped>\n",
              "    .dataframe tbody tr th:only-of-type {\n",
              "        vertical-align: middle;\n",
              "    }\n",
              "\n",
              "    .dataframe tbody tr th {\n",
              "        vertical-align: top;\n",
              "    }\n",
              "\n",
              "    .dataframe thead th {\n",
              "        text-align: right;\n",
              "    }\n",
              "</style>\n",
              "<table border=\"1\" class=\"dataframe\">\n",
              "  <thead>\n",
              "    <tr style=\"text-align: right;\">\n",
              "      <th></th>\n",
              "      <th>count</th>\n",
              "    </tr>\n",
              "    <tr>\n",
              "      <th>number_of_reviews</th>\n",
              "      <th></th>\n",
              "    </tr>\n",
              "  </thead>\n",
              "  <tbody>\n",
              "  </tbody>\n",
              "</table>\n",
              "</div><br><label><b>dtype:</b> Int64</label>"
            ]
          },
          "metadata": {},
          "execution_count": 86
        }
      ]
    },
    {
      "cell_type": "markdown",
      "source": [
        "There is a strong correlation between the two features: when one contains a null value, the other is also null. In such cases, imputing the missing values may not provide meaningful results. Therefore, it would be more appropriate to remove these columns rather than attempt to fill them."
      ],
      "metadata": {
        "id": "J-4hCd_PFzR0"
      }
    },
    {
      "cell_type": "code",
      "source": [
        "df = df.dropna(subset=['rating'])"
      ],
      "metadata": {
        "id": "zK_yiEbFFf3v"
      },
      "execution_count": 87,
      "outputs": []
    },
    {
      "cell_type": "markdown",
      "source": [
        "## bought_in_last_month, current/discounted_price Features"
      ],
      "metadata": {
        "id": "v0QNW41LHjaG"
      }
    },
    {
      "cell_type": "code",
      "source": [
        "from sklearn.experimental import enable_iterative_imputer\n",
        "from sklearn.impute import IterativeImputer\n",
        "import matplotlib.pyplot as plt"
      ],
      "metadata": {
        "id": "KYO6DIJHJGS0"
      },
      "execution_count": 88,
      "outputs": []
    },
    {
      "cell_type": "code",
      "source": [
        "# Select only numeric columns that include missing values\n",
        "cols_with_na = [\"bought_in_last_month\", \"current/discounted_price\"]\n",
        "numeric_df = df[cols_with_na + [\"number_of_reviews\"]].copy()"
      ],
      "metadata": {
        "id": "65RE_cg5JI2U"
      },
      "execution_count": 89,
      "outputs": []
    },
    {
      "cell_type": "code",
      "source": [
        "# Save original distributions (before imputation)\n",
        "before_impute = numeric_df.copy()\n",
        "\n",
        "# Apply IterativeImputer\n",
        "imputer = IterativeImputer(random_state=42, max_iter=10)\n",
        "numeric_imputed = imputer.fit_transform(numeric_df)\n",
        "\n",
        "# Put back into DataFrame\n",
        "numeric_imputed = pd.DataFrame(numeric_imputed, columns=numeric_df.columns, index=numeric_df.index)\n",
        "\n",
        "# Replace in original df\n",
        "df.loc[:, cols_with_na] = numeric_imputed[cols_with_na]"
      ],
      "metadata": {
        "id": "n5XjkzpoJKz-"
      },
      "execution_count": 90,
      "outputs": []
    },
    {
      "cell_type": "code",
      "source": [
        "for col in cols_with_na:\n",
        "    plt.figure(figsize=(8,4))\n",
        "    plt.hist(before_impute[col].dropna(), bins=30, alpha=0.6, label=\"Before Imputation\")\n",
        "    plt.hist(numeric_imputed[col], bins=30, alpha=0.6, label=\"After Imputation\")\n",
        "    plt.title(f\"Distribution of {col} (Before vs After IterativeImputer)\")\n",
        "    plt.legend()\n",
        "    plt.show()"
      ],
      "metadata": {
        "colab": {
          "base_uri": "https://localhost:8080/",
          "height": 765
        },
        "id": "ro_5-cIDI_O1",
        "outputId": "4b198c82-9636-4379-80d1-783ab41e1d9a"
      },
      "execution_count": 91,
      "outputs": [
        {
          "output_type": "display_data",
          "data": {
            "text/plain": [
              "<Figure size 800x400 with 1 Axes>"
            ],
            "image/png": "[encoded data removed]"
          },
          "metadata": {}
        },
        {
          "output_type": "display_data",
          "data": {
            "text/plain": [
              "<Figure size 800x400 with 1 Axes>"
            ],
            "image/png": "[encoded data removed]"
          },
          "metadata": {}
        }
      ]
    },
    {
      "cell_type": "code",
      "source": [
        "df.rename(columns={\n",
        "    'rating': 'product_rating',\n",
        "    'number_of_reviews': 'total_reviews',\n",
        "    'bought_in_last_month': 'purchased_last_month',\n",
        "    'current/discounted_price': 'discounted_price',\n",
        "    'is_couponed': 'has_coupon',\n",
        "    'buy_box_availability': 'availability',\n",
        "}, inplace=True)\n",
        "\n",
        "df.columns"
      ],
      "metadata": {
        "colab": {
          "base_uri": "https://localhost:8080/"
        },
        "id": "OcgvFjNrLObc",
        "outputId": "a7088c7e-2dd4-47d5-f614-239acca96aee"
      },
      "execution_count": 92,
      "outputs": [
        {
          "output_type": "execute_result",
          "data": {
            "text/plain": [
              "Index(['product_rating', 'total_reviews', 'purchased_last_month',\n",
              "       'discounted_price', 'listed_price', 'is_best_seller', 'is_sponsored',\n",
              "       'has_coupon', 'availability', 'category'],\n",
              "      dtype='object')"
            ]
          },
          "metadata": {},
          "execution_count": 92
        }
      ]
    },
    {
      "cell_type": "code",
      "source": [
        "df.info()"
      ],
      "metadata": {
        "colab": {
          "base_uri": "https://localhost:8080/"
        },
        "id": "-mldZijeNR92",
        "outputId": "ccf08842-338e-4f56-9cd7-b18703869e39"
      },
      "execution_count": 93,
      "outputs": [
        {
          "output_type": "stream",
          "name": "stdout",
          "text": [
            "<class 'pandas.core.frame.DataFrame'>\n",
            "Index: 39479 entries, 0 to 42674\n",
            "Data columns (total 10 columns):\n",
            " #   Column                Non-Null Count  Dtype  \n",
            "---  ------                --------------  -----  \n",
            " 0   product_rating        39479 non-null  float32\n",
            " 1   total_reviews         39479 non-null  Float64\n",
            " 2   purchased_last_month  39479 non-null  float64\n",
            " 3   discounted_price      39479 non-null  float64\n",
            " 4   listed_price          39479 non-null  float64\n",
            " 5   is_best_seller        39479 non-null  object \n",
            " 6   is_sponsored          39479 non-null  object \n",
            " 7   has_coupon            39479 non-null  object \n",
            " 8   availability          39479 non-null  object \n",
            " 9   category              39479 non-null  object \n",
            "dtypes: Float64(1), float32(1), float64(3), object(5)\n",
            "memory usage: 3.2+ MB\n"
          ]
        }
      ]
    }
  ]
}